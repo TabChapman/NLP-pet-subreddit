{
 "cells": [
  {
   "cell_type": "code",
   "execution_count": 380,
   "id": "d42f1907-987b-4617-a802-c4ea6e5cef8f",
   "metadata": {},
   "outputs": [],
   "source": [
    "import requests\n",
    "import time\n",
    "import pickle\n",
    "\n",
    "import pandas as pd\n",
    "import numpy as np\n",
    "import matplotlib.pyplot as plt\n",
    "import seaborn as sns\n",
    "\n",
    "from sklearn.feature_extraction.text import CountVectorizer, TfidfVectorizer \n",
    "from sklearn.model_selection import train_test_split, GridSearchCV\n",
    "from sklearn.ensemble import ExtraTreesClassifier, RandomForestClassifier\n",
    "from sklearn.linear_model import LogisticRegression\n",
    "from sklearn.pipeline import Pipeline\n",
    "from sklearn.tree import plot_tree\n",
    "from sklearn.ensemble import AdaBoostClassifier\n",
    "\n",
    "\n"
   ]
  },
  {
   "cell_type": "code",
   "execution_count": 150,
   "id": "17e36f12-a3b9-407d-a8e9-a44dab4b545c",
   "metadata": {},
   "outputs": [],
   "source": [
    "\n",
    "pd.set_option('display.max_columns', None)\n",
    "pd.set_option('display.max_rows', None)"
   ]
  },
  {
   "cell_type": "markdown",
   "id": "a2f60f16-1324-4c2e-a68d-30ab8f0fa171",
   "metadata": {},
   "source": [
    "# Animals are Jerks"
   ]
  },
  {
   "cell_type": "code",
   "execution_count": 151,
   "id": "1b4bb4dc-b3a3-4e6b-978b-5697374c8e12",
   "metadata": {},
   "outputs": [
    {
     "name": "stdout",
     "output_type": "stream",
     "text": [
      "before updated to: 1632778859\n",
      "before updated to: 1632611715\n",
      "before updated to: 1632455207\n",
      "before updated to: 1632309880\n",
      "before updated to: 1632169644\n",
      "before updated to: 1632066308\n",
      "before updated to: 1631910554\n",
      "before updated to: 1631731960\n",
      "before updated to: 1631511187\n",
      "before updated to: 1631369336\n"
     ]
    }
   ],
   "source": [
    "\n",
    "url = 'https://api.pushshift.io/reddit/search/submission'\n",
    "subreddit = 'AnimalsBeingJerks'\n",
    "before = 1632922428\n",
    "\n",
    "jerks = pd.DataFrame()\n",
    "\n",
    "for _ in range(10):\n",
    "        \n",
    "    params = {\n",
    "        'subreddit': subreddit,\n",
    "        'size': 100,\n",
    "        'before': before\n",
    "    }\n",
    "\n",
    "    res = requests.get(url, params=params)\n",
    "    data = res.json()\n",
    "    \n",
    "    before = data['data'][-1]['created_utc']\n",
    "    print(f'before updated to: {before}')\n",
    "    \n",
    "    post_df = pd.DataFrame(data['data'])\n",
    "    jerks = pd.concat([jerks,post_df],ignore_index=True)\n",
    "    \n",
    "    time.sleep(3)"
   ]
  },
  {
   "cell_type": "code",
   "execution_count": 152,
   "id": "401b7abe-16ad-499b-8f19-cd3452f9c675",
   "metadata": {},
   "outputs": [
    {
     "data": {
      "text/html": [
       "<div>\n",
       "<style scoped>\n",
       "    .dataframe tbody tr th:only-of-type {\n",
       "        vertical-align: middle;\n",
       "    }\n",
       "\n",
       "    .dataframe tbody tr th {\n",
       "        vertical-align: top;\n",
       "    }\n",
       "\n",
       "    .dataframe thead th {\n",
       "        text-align: right;\n",
       "    }\n",
       "</style>\n",
       "<table border=\"1\" class=\"dataframe\">\n",
       "  <thead>\n",
       "    <tr style=\"text-align: right;\">\n",
       "      <th></th>\n",
       "      <th>all_awardings</th>\n",
       "      <th>allow_live_comments</th>\n",
       "      <th>author</th>\n",
       "      <th>author_flair_css_class</th>\n",
       "      <th>author_flair_richtext</th>\n",
       "      <th>author_flair_text</th>\n",
       "      <th>author_flair_type</th>\n",
       "      <th>author_fullname</th>\n",
       "      <th>author_is_blocked</th>\n",
       "      <th>author_patreon_flair</th>\n",
       "      <th>author_premium</th>\n",
       "      <th>awarders</th>\n",
       "      <th>can_mod_post</th>\n",
       "      <th>contest_mode</th>\n",
       "      <th>created_utc</th>\n",
       "      <th>domain</th>\n",
       "      <th>full_link</th>\n",
       "      <th>gildings</th>\n",
       "      <th>id</th>\n",
       "      <th>is_created_from_ads_ui</th>\n",
       "      <th>is_crosspostable</th>\n",
       "      <th>is_meta</th>\n",
       "      <th>is_original_content</th>\n",
       "      <th>is_reddit_media_domain</th>\n",
       "      <th>is_robot_indexable</th>\n",
       "      <th>is_self</th>\n",
       "      <th>is_video</th>\n",
       "      <th>link_flair_background_color</th>\n",
       "      <th>link_flair_css_class</th>\n",
       "      <th>link_flair_richtext</th>\n",
       "      <th>link_flair_text</th>\n",
       "      <th>link_flair_text_color</th>\n",
       "      <th>link_flair_type</th>\n",
       "      <th>locked</th>\n",
       "      <th>media</th>\n",
       "      <th>media_embed</th>\n",
       "      <th>media_only</th>\n",
       "      <th>no_follow</th>\n",
       "      <th>num_comments</th>\n",
       "      <th>num_crossposts</th>\n",
       "      <th>over_18</th>\n",
       "      <th>parent_whitelist_status</th>\n",
       "      <th>permalink</th>\n",
       "      <th>pinned</th>\n",
       "      <th>post_hint</th>\n",
       "      <th>preview</th>\n",
       "      <th>pwls</th>\n",
       "      <th>retrieved_on</th>\n",
       "      <th>score</th>\n",
       "      <th>secure_media</th>\n",
       "      <th>secure_media_embed</th>\n",
       "      <th>selftext</th>\n",
       "      <th>send_replies</th>\n",
       "      <th>spoiler</th>\n",
       "      <th>stickied</th>\n",
       "      <th>subreddit</th>\n",
       "      <th>subreddit_id</th>\n",
       "      <th>subreddit_subscribers</th>\n",
       "      <th>subreddit_type</th>\n",
       "      <th>thumbnail</th>\n",
       "      <th>thumbnail_height</th>\n",
       "      <th>thumbnail_width</th>\n",
       "      <th>title</th>\n",
       "      <th>total_awards_received</th>\n",
       "      <th>treatment_tags</th>\n",
       "      <th>upvote_ratio</th>\n",
       "      <th>url</th>\n",
       "      <th>url_overridden_by_dest</th>\n",
       "      <th>whitelist_status</th>\n",
       "      <th>wls</th>\n",
       "      <th>link_flair_template_id</th>\n",
       "      <th>removed_by_category</th>\n",
       "      <th>author_cakeday</th>\n",
       "      <th>author_flair_background_color</th>\n",
       "      <th>author_flair_text_color</th>\n",
       "    </tr>\n",
       "  </thead>\n",
       "  <tbody>\n",
       "    <tr>\n",
       "      <th>0</th>\n",
       "      <td>[]</td>\n",
       "      <td>False</td>\n",
       "      <td>Camouflaged_Nut_Sack</td>\n",
       "      <td>None</td>\n",
       "      <td>[]</td>\n",
       "      <td>None</td>\n",
       "      <td>text</td>\n",
       "      <td>t2_zrlke</td>\n",
       "      <td>False</td>\n",
       "      <td>False</td>\n",
       "      <td>False</td>\n",
       "      <td>[]</td>\n",
       "      <td>False</td>\n",
       "      <td>False</td>\n",
       "      <td>1632919986</td>\n",
       "      <td>youtube.com</td>\n",
       "      <td>https://www.reddit.com/r/AnimalsBeingJerks/com...</td>\n",
       "      <td>{}</td>\n",
       "      <td>pxuqwj</td>\n",
       "      <td>False</td>\n",
       "      <td>True</td>\n",
       "      <td>False</td>\n",
       "      <td>False</td>\n",
       "      <td>False</td>\n",
       "      <td>True</td>\n",
       "      <td>False</td>\n",
       "      <td>False</td>\n",
       "      <td></td>\n",
       "      <td>hide img squirrel</td>\n",
       "      <td>[]</td>\n",
       "      <td>squirrel</td>\n",
       "      <td>dark</td>\n",
       "      <td>text</td>\n",
       "      <td>False</td>\n",
       "      <td>{'oembed': {'author_name': 'Dave Garland', 'au...</td>\n",
       "      <td>{'content': '&amp;lt;iframe width=\"356\" height=\"20...</td>\n",
       "      <td>False</td>\n",
       "      <td>True</td>\n",
       "      <td>14</td>\n",
       "      <td>0</td>\n",
       "      <td>False</td>\n",
       "      <td>all_ads</td>\n",
       "      <td>/r/AnimalsBeingJerks/comments/pxuqwj/squirrel_...</td>\n",
       "      <td>False</td>\n",
       "      <td>rich:video</td>\n",
       "      <td>{'enabled': False, 'images': [{'id': 'KkfiZ62W...</td>\n",
       "      <td>6</td>\n",
       "      <td>1632919997</td>\n",
       "      <td>1</td>\n",
       "      <td>{'oembed': {'author_name': 'Dave Garland', 'au...</td>\n",
       "      <td>{'content': '&amp;lt;iframe width=\"356\" height=\"20...</td>\n",
       "      <td></td>\n",
       "      <td>True</td>\n",
       "      <td>False</td>\n",
       "      <td>False</td>\n",
       "      <td>AnimalsBeingJerks</td>\n",
       "      <td>t5_2wfjv</td>\n",
       "      <td>4154420</td>\n",
       "      <td>public</td>\n",
       "      <td>https://a.thumbs.redditmedia.com/zYrflxy0VzYhO...</td>\n",
       "      <td>105.0</td>\n",
       "      <td>140.0</td>\n",
       "      <td>Squirrel goes for the jugular.</td>\n",
       "      <td>0</td>\n",
       "      <td>[]</td>\n",
       "      <td>1.0</td>\n",
       "      <td>https://www.youtube.com/watch?v=_aGLRdvYTTU</td>\n",
       "      <td>https://www.youtube.com/watch?v=_aGLRdvYTTU</td>\n",
       "      <td>all_ads</td>\n",
       "      <td>6</td>\n",
       "      <td>NaN</td>\n",
       "      <td>NaN</td>\n",
       "      <td>NaN</td>\n",
       "      <td>NaN</td>\n",
       "      <td>NaN</td>\n",
       "    </tr>\n",
       "    <tr>\n",
       "      <th>1</th>\n",
       "      <td>[]</td>\n",
       "      <td>False</td>\n",
       "      <td>decent694201</td>\n",
       "      <td>None</td>\n",
       "      <td>[]</td>\n",
       "      <td>None</td>\n",
       "      <td>text</td>\n",
       "      <td>t2_3tkb6ije</td>\n",
       "      <td>False</td>\n",
       "      <td>False</td>\n",
       "      <td>False</td>\n",
       "      <td>[]</td>\n",
       "      <td>False</td>\n",
       "      <td>False</td>\n",
       "      <td>1632919086</td>\n",
       "      <td>youtube.com</td>\n",
       "      <td>https://www.reddit.com/r/AnimalsBeingJerks/com...</td>\n",
       "      <td>{}</td>\n",
       "      <td>pxuhqm</td>\n",
       "      <td>False</td>\n",
       "      <td>True</td>\n",
       "      <td>False</td>\n",
       "      <td>False</td>\n",
       "      <td>False</td>\n",
       "      <td>True</td>\n",
       "      <td>False</td>\n",
       "      <td>False</td>\n",
       "      <td></td>\n",
       "      <td>NaN</td>\n",
       "      <td>[]</td>\n",
       "      <td>NaN</td>\n",
       "      <td>dark</td>\n",
       "      <td>text</td>\n",
       "      <td>False</td>\n",
       "      <td>NaN</td>\n",
       "      <td>NaN</td>\n",
       "      <td>False</td>\n",
       "      <td>True</td>\n",
       "      <td>2</td>\n",
       "      <td>0</td>\n",
       "      <td>False</td>\n",
       "      <td>all_ads</td>\n",
       "      <td>/r/AnimalsBeingJerks/comments/pxuhqm/angry_pos...</td>\n",
       "      <td>False</td>\n",
       "      <td>NaN</td>\n",
       "      <td>NaN</td>\n",
       "      <td>6</td>\n",
       "      <td>1632919097</td>\n",
       "      <td>1</td>\n",
       "      <td>NaN</td>\n",
       "      <td>NaN</td>\n",
       "      <td></td>\n",
       "      <td>True</td>\n",
       "      <td>False</td>\n",
       "      <td>False</td>\n",
       "      <td>AnimalsBeingJerks</td>\n",
       "      <td>t5_2wfjv</td>\n",
       "      <td>4154399</td>\n",
       "      <td>public</td>\n",
       "      <td>default</td>\n",
       "      <td>NaN</td>\n",
       "      <td>NaN</td>\n",
       "      <td>Angry Possum eats a strawberry</td>\n",
       "      <td>0</td>\n",
       "      <td>[]</td>\n",
       "      <td>1.0</td>\n",
       "      <td>https://www.youtube.com/watch?v=Ee1ha5WeNng</td>\n",
       "      <td>https://www.youtube.com/watch?v=Ee1ha5WeNng</td>\n",
       "      <td>all_ads</td>\n",
       "      <td>6</td>\n",
       "      <td>NaN</td>\n",
       "      <td>NaN</td>\n",
       "      <td>NaN</td>\n",
       "      <td>NaN</td>\n",
       "      <td>NaN</td>\n",
       "    </tr>\n",
       "    <tr>\n",
       "      <th>2</th>\n",
       "      <td>[]</td>\n",
       "      <td>False</td>\n",
       "      <td>tarun2619</td>\n",
       "      <td>None</td>\n",
       "      <td>[]</td>\n",
       "      <td>None</td>\n",
       "      <td>text</td>\n",
       "      <td>t2_5b0gn8ce</td>\n",
       "      <td>False</td>\n",
       "      <td>False</td>\n",
       "      <td>False</td>\n",
       "      <td>[]</td>\n",
       "      <td>False</td>\n",
       "      <td>False</td>\n",
       "      <td>1632917090</td>\n",
       "      <td>/r/AnimalsBeingJerks/comments/pxtybm/playing_d...</td>\n",
       "      <td>https://www.reddit.com/r/AnimalsBeingJerks/com...</td>\n",
       "      <td>{}</td>\n",
       "      <td>pxtybm</td>\n",
       "      <td>False</td>\n",
       "      <td>True</td>\n",
       "      <td>False</td>\n",
       "      <td>False</td>\n",
       "      <td>False</td>\n",
       "      <td>True</td>\n",
       "      <td>False</td>\n",
       "      <td>True</td>\n",
       "      <td></td>\n",
       "      <td>hide img dog</td>\n",
       "      <td>[]</td>\n",
       "      <td>dog</td>\n",
       "      <td>dark</td>\n",
       "      <td>text</td>\n",
       "      <td>False</td>\n",
       "      <td>NaN</td>\n",
       "      <td>NaN</td>\n",
       "      <td>False</td>\n",
       "      <td>True</td>\n",
       "      <td>80</td>\n",
       "      <td>0</td>\n",
       "      <td>False</td>\n",
       "      <td>all_ads</td>\n",
       "      <td>/r/AnimalsBeingJerks/comments/pxtybm/playing_d...</td>\n",
       "      <td>False</td>\n",
       "      <td>hosted:video</td>\n",
       "      <td>{'enabled': False, 'images': [{'id': 'DSHpmK4c...</td>\n",
       "      <td>6</td>\n",
       "      <td>1632917101</td>\n",
       "      <td>1</td>\n",
       "      <td>NaN</td>\n",
       "      <td>NaN</td>\n",
       "      <td></td>\n",
       "      <td>True</td>\n",
       "      <td>False</td>\n",
       "      <td>False</td>\n",
       "      <td>AnimalsBeingJerks</td>\n",
       "      <td>t5_2wfjv</td>\n",
       "      <td>4154356</td>\n",
       "      <td>public</td>\n",
       "      <td>https://b.thumbs.redditmedia.com/i8leuMAE_46wg...</td>\n",
       "      <td>140.0</td>\n",
       "      <td>140.0</td>\n",
       "      <td>Playing dead</td>\n",
       "      <td>0</td>\n",
       "      <td>[]</td>\n",
       "      <td>1.0</td>\n",
       "      <td>https://v.redd.it/6ychovtanfq71</td>\n",
       "      <td>https://v.redd.it/6ychovtanfq71</td>\n",
       "      <td>all_ads</td>\n",
       "      <td>6</td>\n",
       "      <td>df655250-2b1c-11e3-9555-12313d223dbc</td>\n",
       "      <td>NaN</td>\n",
       "      <td>NaN</td>\n",
       "      <td>NaN</td>\n",
       "      <td>NaN</td>\n",
       "    </tr>\n",
       "    <tr>\n",
       "      <th>3</th>\n",
       "      <td>[]</td>\n",
       "      <td>False</td>\n",
       "      <td>mkrkholil</td>\n",
       "      <td>None</td>\n",
       "      <td>[]</td>\n",
       "      <td>None</td>\n",
       "      <td>text</td>\n",
       "      <td>t2_alxm3j9n</td>\n",
       "      <td>False</td>\n",
       "      <td>False</td>\n",
       "      <td>False</td>\n",
       "      <td>[]</td>\n",
       "      <td>False</td>\n",
       "      <td>False</td>\n",
       "      <td>1632912885</td>\n",
       "      <td>i.redd.it</td>\n",
       "      <td>https://www.reddit.com/r/AnimalsBeingJerks/com...</td>\n",
       "      <td>{}</td>\n",
       "      <td>pxswdo</td>\n",
       "      <td>False</td>\n",
       "      <td>False</td>\n",
       "      <td>False</td>\n",
       "      <td>False</td>\n",
       "      <td>True</td>\n",
       "      <td>False</td>\n",
       "      <td>False</td>\n",
       "      <td>False</td>\n",
       "      <td></td>\n",
       "      <td>hide img dog</td>\n",
       "      <td>[]</td>\n",
       "      <td>dog</td>\n",
       "      <td>dark</td>\n",
       "      <td>text</td>\n",
       "      <td>False</td>\n",
       "      <td>NaN</td>\n",
       "      <td>NaN</td>\n",
       "      <td>False</td>\n",
       "      <td>True</td>\n",
       "      <td>0</td>\n",
       "      <td>0</td>\n",
       "      <td>False</td>\n",
       "      <td>all_ads</td>\n",
       "      <td>/r/AnimalsBeingJerks/comments/pxswdo/hows_the_...</td>\n",
       "      <td>False</td>\n",
       "      <td>image</td>\n",
       "      <td>{'enabled': True, 'images': [{'id': 'DNgX2Mi6B...</td>\n",
       "      <td>6</td>\n",
       "      <td>1632912896</td>\n",
       "      <td>1</td>\n",
       "      <td>NaN</td>\n",
       "      <td>NaN</td>\n",
       "      <td></td>\n",
       "      <td>True</td>\n",
       "      <td>False</td>\n",
       "      <td>False</td>\n",
       "      <td>AnimalsBeingJerks</td>\n",
       "      <td>t5_2wfjv</td>\n",
       "      <td>4154282</td>\n",
       "      <td>public</td>\n",
       "      <td>https://b.thumbs.redditmedia.com/vNjxkG88ZDPgl...</td>\n",
       "      <td>140.0</td>\n",
       "      <td>140.0</td>\n",
       "      <td>How's the puppy? The puppy is cute to me!</td>\n",
       "      <td>0</td>\n",
       "      <td>[]</td>\n",
       "      <td>1.0</td>\n",
       "      <td>https://i.redd.it/7qmfu3xiafq71.jpg</td>\n",
       "      <td>https://i.redd.it/7qmfu3xiafq71.jpg</td>\n",
       "      <td>all_ads</td>\n",
       "      <td>6</td>\n",
       "      <td>df655250-2b1c-11e3-9555-12313d223dbc</td>\n",
       "      <td>reddit</td>\n",
       "      <td>NaN</td>\n",
       "      <td>NaN</td>\n",
       "      <td>NaN</td>\n",
       "    </tr>\n",
       "    <tr>\n",
       "      <th>4</th>\n",
       "      <td>[]</td>\n",
       "      <td>False</td>\n",
       "      <td>zeeshanz</td>\n",
       "      <td>None</td>\n",
       "      <td>[]</td>\n",
       "      <td>None</td>\n",
       "      <td>text</td>\n",
       "      <td>t2_e3crug5r</td>\n",
       "      <td>False</td>\n",
       "      <td>False</td>\n",
       "      <td>False</td>\n",
       "      <td>[]</td>\n",
       "      <td>False</td>\n",
       "      <td>False</td>\n",
       "      <td>1632912254</td>\n",
       "      <td>/r/AnimalsBeingJerks/comments/pxsr3b/look_at_h...</td>\n",
       "      <td>https://www.reddit.com/r/AnimalsBeingJerks/com...</td>\n",
       "      <td>{}</td>\n",
       "      <td>pxsr3b</td>\n",
       "      <td>False</td>\n",
       "      <td>False</td>\n",
       "      <td>False</td>\n",
       "      <td>False</td>\n",
       "      <td>False</td>\n",
       "      <td>False</td>\n",
       "      <td>False</td>\n",
       "      <td>True</td>\n",
       "      <td></td>\n",
       "      <td>NaN</td>\n",
       "      <td>[]</td>\n",
       "      <td>NaN</td>\n",
       "      <td>dark</td>\n",
       "      <td>text</td>\n",
       "      <td>False</td>\n",
       "      <td>NaN</td>\n",
       "      <td>NaN</td>\n",
       "      <td>False</td>\n",
       "      <td>True</td>\n",
       "      <td>0</td>\n",
       "      <td>0</td>\n",
       "      <td>False</td>\n",
       "      <td>all_ads</td>\n",
       "      <td>/r/AnimalsBeingJerks/comments/pxsr3b/look_at_h...</td>\n",
       "      <td>False</td>\n",
       "      <td>hosted:video</td>\n",
       "      <td>{'enabled': False, 'images': [{'id': 'WMP_Me3_...</td>\n",
       "      <td>6</td>\n",
       "      <td>1632912265</td>\n",
       "      <td>1</td>\n",
       "      <td>NaN</td>\n",
       "      <td>NaN</td>\n",
       "      <td></td>\n",
       "      <td>True</td>\n",
       "      <td>False</td>\n",
       "      <td>False</td>\n",
       "      <td>AnimalsBeingJerks</td>\n",
       "      <td>t5_2wfjv</td>\n",
       "      <td>4154272</td>\n",
       "      <td>public</td>\n",
       "      <td>https://b.thumbs.redditmedia.com/QdO1fXZs0yJj4...</td>\n",
       "      <td>78.0</td>\n",
       "      <td>140.0</td>\n",
       "      <td>Look at her tounge</td>\n",
       "      <td>0</td>\n",
       "      <td>[]</td>\n",
       "      <td>1.0</td>\n",
       "      <td>https://v.redd.it/sxm5e22t8fq71</td>\n",
       "      <td>https://v.redd.it/sxm5e22t8fq71</td>\n",
       "      <td>all_ads</td>\n",
       "      <td>6</td>\n",
       "      <td>NaN</td>\n",
       "      <td>reddit</td>\n",
       "      <td>NaN</td>\n",
       "      <td>NaN</td>\n",
       "      <td>NaN</td>\n",
       "    </tr>\n",
       "  </tbody>\n",
       "</table>\n",
       "</div>"
      ],
      "text/plain": [
       "  all_awardings  allow_live_comments                author  \\\n",
       "0            []                False  Camouflaged_Nut_Sack   \n",
       "1            []                False          decent694201   \n",
       "2            []                False             tarun2619   \n",
       "3            []                False             mkrkholil   \n",
       "4            []                False              zeeshanz   \n",
       "\n",
       "  author_flair_css_class author_flair_richtext author_flair_text  \\\n",
       "0                   None                    []              None   \n",
       "1                   None                    []              None   \n",
       "2                   None                    []              None   \n",
       "3                   None                    []              None   \n",
       "4                   None                    []              None   \n",
       "\n",
       "  author_flair_type author_fullname  author_is_blocked author_patreon_flair  \\\n",
       "0              text        t2_zrlke              False                False   \n",
       "1              text     t2_3tkb6ije              False                False   \n",
       "2              text     t2_5b0gn8ce              False                False   \n",
       "3              text     t2_alxm3j9n              False                False   \n",
       "4              text     t2_e3crug5r              False                False   \n",
       "\n",
       "  author_premium awarders  can_mod_post  contest_mode  created_utc  \\\n",
       "0          False       []         False         False   1632919986   \n",
       "1          False       []         False         False   1632919086   \n",
       "2          False       []         False         False   1632917090   \n",
       "3          False       []         False         False   1632912885   \n",
       "4          False       []         False         False   1632912254   \n",
       "\n",
       "                                              domain  \\\n",
       "0                                        youtube.com   \n",
       "1                                        youtube.com   \n",
       "2  /r/AnimalsBeingJerks/comments/pxtybm/playing_d...   \n",
       "3                                          i.redd.it   \n",
       "4  /r/AnimalsBeingJerks/comments/pxsr3b/look_at_h...   \n",
       "\n",
       "                                           full_link gildings      id  \\\n",
       "0  https://www.reddit.com/r/AnimalsBeingJerks/com...       {}  pxuqwj   \n",
       "1  https://www.reddit.com/r/AnimalsBeingJerks/com...       {}  pxuhqm   \n",
       "2  https://www.reddit.com/r/AnimalsBeingJerks/com...       {}  pxtybm   \n",
       "3  https://www.reddit.com/r/AnimalsBeingJerks/com...       {}  pxswdo   \n",
       "4  https://www.reddit.com/r/AnimalsBeingJerks/com...       {}  pxsr3b   \n",
       "\n",
       "   is_created_from_ads_ui  is_crosspostable  is_meta  is_original_content  \\\n",
       "0                   False              True    False                False   \n",
       "1                   False              True    False                False   \n",
       "2                   False              True    False                False   \n",
       "3                   False             False    False                False   \n",
       "4                   False             False    False                False   \n",
       "\n",
       "   is_reddit_media_domain  is_robot_indexable  is_self  is_video  \\\n",
       "0                   False                True    False     False   \n",
       "1                   False                True    False     False   \n",
       "2                   False                True    False      True   \n",
       "3                    True               False    False     False   \n",
       "4                   False               False    False      True   \n",
       "\n",
       "  link_flair_background_color link_flair_css_class link_flair_richtext  \\\n",
       "0                                hide img squirrel                  []   \n",
       "1                                              NaN                  []   \n",
       "2                                     hide img dog                  []   \n",
       "3                                     hide img dog                  []   \n",
       "4                                              NaN                  []   \n",
       "\n",
       "  link_flair_text link_flair_text_color link_flair_type  locked  \\\n",
       "0        squirrel                  dark            text   False   \n",
       "1             NaN                  dark            text   False   \n",
       "2             dog                  dark            text   False   \n",
       "3             dog                  dark            text   False   \n",
       "4             NaN                  dark            text   False   \n",
       "\n",
       "                                               media  \\\n",
       "0  {'oembed': {'author_name': 'Dave Garland', 'au...   \n",
       "1                                                NaN   \n",
       "2                                                NaN   \n",
       "3                                                NaN   \n",
       "4                                                NaN   \n",
       "\n",
       "                                         media_embed  media_only  no_follow  \\\n",
       "0  {'content': '&lt;iframe width=\"356\" height=\"20...       False       True   \n",
       "1                                                NaN       False       True   \n",
       "2                                                NaN       False       True   \n",
       "3                                                NaN       False       True   \n",
       "4                                                NaN       False       True   \n",
       "\n",
       "   num_comments  num_crossposts  over_18 parent_whitelist_status  \\\n",
       "0            14               0    False                 all_ads   \n",
       "1             2               0    False                 all_ads   \n",
       "2            80               0    False                 all_ads   \n",
       "3             0               0    False                 all_ads   \n",
       "4             0               0    False                 all_ads   \n",
       "\n",
       "                                           permalink  pinned     post_hint  \\\n",
       "0  /r/AnimalsBeingJerks/comments/pxuqwj/squirrel_...   False    rich:video   \n",
       "1  /r/AnimalsBeingJerks/comments/pxuhqm/angry_pos...   False           NaN   \n",
       "2  /r/AnimalsBeingJerks/comments/pxtybm/playing_d...   False  hosted:video   \n",
       "3  /r/AnimalsBeingJerks/comments/pxswdo/hows_the_...   False         image   \n",
       "4  /r/AnimalsBeingJerks/comments/pxsr3b/look_at_h...   False  hosted:video   \n",
       "\n",
       "                                             preview  pwls  retrieved_on  \\\n",
       "0  {'enabled': False, 'images': [{'id': 'KkfiZ62W...     6    1632919997   \n",
       "1                                                NaN     6    1632919097   \n",
       "2  {'enabled': False, 'images': [{'id': 'DSHpmK4c...     6    1632917101   \n",
       "3  {'enabled': True, 'images': [{'id': 'DNgX2Mi6B...     6    1632912896   \n",
       "4  {'enabled': False, 'images': [{'id': 'WMP_Me3_...     6    1632912265   \n",
       "\n",
       "   score                                       secure_media  \\\n",
       "0      1  {'oembed': {'author_name': 'Dave Garland', 'au...   \n",
       "1      1                                                NaN   \n",
       "2      1                                                NaN   \n",
       "3      1                                                NaN   \n",
       "4      1                                                NaN   \n",
       "\n",
       "                                  secure_media_embed selftext  send_replies  \\\n",
       "0  {'content': '&lt;iframe width=\"356\" height=\"20...                   True   \n",
       "1                                                NaN                   True   \n",
       "2                                                NaN                   True   \n",
       "3                                                NaN                   True   \n",
       "4                                                NaN                   True   \n",
       "\n",
       "   spoiler  stickied          subreddit subreddit_id  subreddit_subscribers  \\\n",
       "0    False     False  AnimalsBeingJerks     t5_2wfjv                4154420   \n",
       "1    False     False  AnimalsBeingJerks     t5_2wfjv                4154399   \n",
       "2    False     False  AnimalsBeingJerks     t5_2wfjv                4154356   \n",
       "3    False     False  AnimalsBeingJerks     t5_2wfjv                4154282   \n",
       "4    False     False  AnimalsBeingJerks     t5_2wfjv                4154272   \n",
       "\n",
       "  subreddit_type                                          thumbnail  \\\n",
       "0         public  https://a.thumbs.redditmedia.com/zYrflxy0VzYhO...   \n",
       "1         public                                            default   \n",
       "2         public  https://b.thumbs.redditmedia.com/i8leuMAE_46wg...   \n",
       "3         public  https://b.thumbs.redditmedia.com/vNjxkG88ZDPgl...   \n",
       "4         public  https://b.thumbs.redditmedia.com/QdO1fXZs0yJj4...   \n",
       "\n",
       "   thumbnail_height  thumbnail_width  \\\n",
       "0             105.0            140.0   \n",
       "1               NaN              NaN   \n",
       "2             140.0            140.0   \n",
       "3             140.0            140.0   \n",
       "4              78.0            140.0   \n",
       "\n",
       "                                       title  total_awards_received  \\\n",
       "0             Squirrel goes for the jugular.                      0   \n",
       "1             Angry Possum eats a strawberry                      0   \n",
       "2                               Playing dead                      0   \n",
       "3  How's the puppy? The puppy is cute to me!                      0   \n",
       "4                         Look at her tounge                      0   \n",
       "\n",
       "  treatment_tags  upvote_ratio                                          url  \\\n",
       "0             []           1.0  https://www.youtube.com/watch?v=_aGLRdvYTTU   \n",
       "1             []           1.0  https://www.youtube.com/watch?v=Ee1ha5WeNng   \n",
       "2             []           1.0              https://v.redd.it/6ychovtanfq71   \n",
       "3             []           1.0          https://i.redd.it/7qmfu3xiafq71.jpg   \n",
       "4             []           1.0              https://v.redd.it/sxm5e22t8fq71   \n",
       "\n",
       "                        url_overridden_by_dest whitelist_status  wls  \\\n",
       "0  https://www.youtube.com/watch?v=_aGLRdvYTTU          all_ads    6   \n",
       "1  https://www.youtube.com/watch?v=Ee1ha5WeNng          all_ads    6   \n",
       "2              https://v.redd.it/6ychovtanfq71          all_ads    6   \n",
       "3          https://i.redd.it/7qmfu3xiafq71.jpg          all_ads    6   \n",
       "4              https://v.redd.it/sxm5e22t8fq71          all_ads    6   \n",
       "\n",
       "                 link_flair_template_id removed_by_category author_cakeday  \\\n",
       "0                                   NaN                 NaN            NaN   \n",
       "1                                   NaN                 NaN            NaN   \n",
       "2  df655250-2b1c-11e3-9555-12313d223dbc                 NaN            NaN   \n",
       "3  df655250-2b1c-11e3-9555-12313d223dbc              reddit            NaN   \n",
       "4                                   NaN              reddit            NaN   \n",
       "\n",
       "  author_flair_background_color author_flair_text_color  \n",
       "0                           NaN                     NaN  \n",
       "1                           NaN                     NaN  \n",
       "2                           NaN                     NaN  \n",
       "3                           NaN                     NaN  \n",
       "4                           NaN                     NaN  "
      ]
     },
     "execution_count": 152,
     "metadata": {},
     "output_type": "execute_result"
    }
   ],
   "source": [
    "jerks.head(5)"
   ]
  },
  {
   "cell_type": "code",
   "execution_count": 153,
   "id": "c2f21ee6-378f-4e4e-afaa-bb1630850f30",
   "metadata": {},
   "outputs": [],
   "source": [
    "jerks_words = jerks[['subreddit','title']]"
   ]
  },
  {
   "cell_type": "code",
   "execution_count": 154,
   "id": "60f5df51-d66f-4a1b-8173-221cacf5c3c2",
   "metadata": {},
   "outputs": [],
   "source": [
    "jerks_words;"
   ]
  },
  {
   "cell_type": "code",
   "execution_count": 155,
   "id": "7c70e111-de11-4126-ac04-028d746658d1",
   "metadata": {},
   "outputs": [],
   "source": [
    "#jerks_words = jerks_words.drop([48,209,210,211,212,213,214,216,217,218,219,220,221,424,463])"
   ]
  },
  {
   "cell_type": "code",
   "execution_count": 156,
   "id": "d79adb2a-e137-496c-9f3b-8510c03ef2f2",
   "metadata": {},
   "outputs": [
    {
     "name": "stderr",
     "output_type": "stream",
     "text": [
      "<ipython-input-156-cf1d84481663>:1: SettingWithCopyWarning: \n",
      "A value is trying to be set on a copy of a slice from a DataFrame\n",
      "\n",
      "See the caveats in the documentation: https://pandas.pydata.org/pandas-docs/stable/user_guide/indexing.html#returning-a-view-versus-a-copy\n",
      "  jerks_words.drop_duplicates(inplace=True);\n"
     ]
    }
   ],
   "source": [
    "jerks_words.drop_duplicates(inplace=True);"
   ]
  },
  {
   "cell_type": "markdown",
   "id": "40684cad-9895-4bb4-9f51-2611b5900f59",
   "metadata": {},
   "source": [
    "# Animals are Bros"
   ]
  },
  {
   "cell_type": "code",
   "execution_count": 157,
   "id": "b078b493-c8a8-421b-b32e-a59e33c4eb11",
   "metadata": {},
   "outputs": [
    {
     "name": "stdout",
     "output_type": "stream",
     "text": [
      "before updated to: 1632750404\n",
      "before updated to: 1632614038\n",
      "before updated to: 1632505811\n",
      "before updated to: 1632317315\n",
      "before updated to: 1632163144\n",
      "before updated to: 1632070762\n",
      "before updated to: 1631892661\n",
      "before updated to: 1631741959\n",
      "before updated to: 1631600834\n",
      "before updated to: 1631439120\n"
     ]
    }
   ],
   "source": [
    "\n",
    "url = 'https://api.pushshift.io/reddit/search/submission'\n",
    "subreddit = 'AnimalsBeingBros'\n",
    "before = 1632922428\n",
    "\n",
    "bros = pd.DataFrame()\n",
    "\n",
    "for _ in range(10):\n",
    "        \n",
    "    params = {\n",
    "        'subreddit': subreddit,\n",
    "        'size': 100,\n",
    "        'before': before\n",
    "    }\n",
    "\n",
    "    res = requests.get(url, params=params)\n",
    "    data = res.json()\n",
    "    \n",
    "    before = data['data'][-1]['created_utc']\n",
    "    print(f'before updated to: {before}')\n",
    "    \n",
    "    post_df = pd.DataFrame(data['data'])\n",
    "    bros = pd.concat([bros,post_df],ignore_index=True)\n",
    "    \n",
    "    time.sleep(3)"
   ]
  },
  {
   "cell_type": "code",
   "execution_count": 158,
   "id": "101c3420-0c1c-48cf-bbdc-d5bbbc2b0cb1",
   "metadata": {},
   "outputs": [
    {
     "data": {
      "text/html": [
       "<div>\n",
       "<style scoped>\n",
       "    .dataframe tbody tr th:only-of-type {\n",
       "        vertical-align: middle;\n",
       "    }\n",
       "\n",
       "    .dataframe tbody tr th {\n",
       "        vertical-align: top;\n",
       "    }\n",
       "\n",
       "    .dataframe thead th {\n",
       "        text-align: right;\n",
       "    }\n",
       "</style>\n",
       "<table border=\"1\" class=\"dataframe\">\n",
       "  <thead>\n",
       "    <tr style=\"text-align: right;\">\n",
       "      <th></th>\n",
       "      <th>all_awardings</th>\n",
       "      <th>allow_live_comments</th>\n",
       "      <th>author</th>\n",
       "      <th>author_flair_css_class</th>\n",
       "      <th>author_flair_richtext</th>\n",
       "      <th>author_flair_text</th>\n",
       "      <th>author_flair_type</th>\n",
       "      <th>author_fullname</th>\n",
       "      <th>author_is_blocked</th>\n",
       "      <th>author_patreon_flair</th>\n",
       "      <th>author_premium</th>\n",
       "      <th>awarders</th>\n",
       "      <th>can_mod_post</th>\n",
       "      <th>contest_mode</th>\n",
       "      <th>created_utc</th>\n",
       "      <th>domain</th>\n",
       "      <th>full_link</th>\n",
       "      <th>gildings</th>\n",
       "      <th>id</th>\n",
       "      <th>is_created_from_ads_ui</th>\n",
       "      <th>is_crosspostable</th>\n",
       "      <th>is_meta</th>\n",
       "      <th>is_original_content</th>\n",
       "      <th>is_reddit_media_domain</th>\n",
       "      <th>is_robot_indexable</th>\n",
       "      <th>is_self</th>\n",
       "      <th>is_video</th>\n",
       "      <th>link_flair_background_color</th>\n",
       "      <th>link_flair_richtext</th>\n",
       "      <th>link_flair_text_color</th>\n",
       "      <th>link_flair_type</th>\n",
       "      <th>locked</th>\n",
       "      <th>media_only</th>\n",
       "      <th>no_follow</th>\n",
       "      <th>num_comments</th>\n",
       "      <th>num_crossposts</th>\n",
       "      <th>over_18</th>\n",
       "      <th>parent_whitelist_status</th>\n",
       "      <th>permalink</th>\n",
       "      <th>pinned</th>\n",
       "      <th>post_hint</th>\n",
       "      <th>preview</th>\n",
       "      <th>pwls</th>\n",
       "      <th>retrieved_on</th>\n",
       "      <th>score</th>\n",
       "      <th>selftext</th>\n",
       "      <th>send_replies</th>\n",
       "      <th>spoiler</th>\n",
       "      <th>stickied</th>\n",
       "      <th>subreddit</th>\n",
       "      <th>subreddit_id</th>\n",
       "      <th>subreddit_subscribers</th>\n",
       "      <th>subreddit_type</th>\n",
       "      <th>thumbnail</th>\n",
       "      <th>thumbnail_height</th>\n",
       "      <th>thumbnail_width</th>\n",
       "      <th>title</th>\n",
       "      <th>total_awards_received</th>\n",
       "      <th>treatment_tags</th>\n",
       "      <th>upvote_ratio</th>\n",
       "      <th>url</th>\n",
       "      <th>url_overridden_by_dest</th>\n",
       "      <th>whitelist_status</th>\n",
       "      <th>wls</th>\n",
       "      <th>removed_by_category</th>\n",
       "      <th>media</th>\n",
       "      <th>media_embed</th>\n",
       "      <th>secure_media</th>\n",
       "      <th>secure_media_embed</th>\n",
       "      <th>author_flair_background_color</th>\n",
       "      <th>author_flair_text_color</th>\n",
       "      <th>link_flair_template_id</th>\n",
       "      <th>link_flair_text</th>\n",
       "      <th>banned_by</th>\n",
       "      <th>media_metadata</th>\n",
       "      <th>author_cakeday</th>\n",
       "    </tr>\n",
       "  </thead>\n",
       "  <tbody>\n",
       "    <tr>\n",
       "      <th>0</th>\n",
       "      <td>[]</td>\n",
       "      <td>False</td>\n",
       "      <td>rominaalvar</td>\n",
       "      <td>None</td>\n",
       "      <td>[]</td>\n",
       "      <td>None</td>\n",
       "      <td>text</td>\n",
       "      <td>t2_cu2t21xt</td>\n",
       "      <td>False</td>\n",
       "      <td>False</td>\n",
       "      <td>False</td>\n",
       "      <td>[]</td>\n",
       "      <td>False</td>\n",
       "      <td>False</td>\n",
       "      <td>1632919835</td>\n",
       "      <td>/r/AnimalsBeingBros/comments/pxupcm/yorkie_bri...</td>\n",
       "      <td>https://www.reddit.com/r/AnimalsBeingBros/comm...</td>\n",
       "      <td>{}</td>\n",
       "      <td>pxupcm</td>\n",
       "      <td>False</td>\n",
       "      <td>True</td>\n",
       "      <td>False</td>\n",
       "      <td>False</td>\n",
       "      <td>False</td>\n",
       "      <td>True</td>\n",
       "      <td>False</td>\n",
       "      <td>True</td>\n",
       "      <td></td>\n",
       "      <td>[]</td>\n",
       "      <td>dark</td>\n",
       "      <td>text</td>\n",
       "      <td>False</td>\n",
       "      <td>False</td>\n",
       "      <td>True</td>\n",
       "      <td>0</td>\n",
       "      <td>0</td>\n",
       "      <td>False</td>\n",
       "      <td>all_ads</td>\n",
       "      <td>/r/AnimalsBeingBros/comments/pxupcm/yorkie_bri...</td>\n",
       "      <td>False</td>\n",
       "      <td>hosted:video</td>\n",
       "      <td>{'enabled': False, 'images': [{'id': 'kY8lqzL2...</td>\n",
       "      <td>6</td>\n",
       "      <td>1632919846</td>\n",
       "      <td>1</td>\n",
       "      <td></td>\n",
       "      <td>True</td>\n",
       "      <td>False</td>\n",
       "      <td>False</td>\n",
       "      <td>AnimalsBeingBros</td>\n",
       "      <td>t5_2wmvy</td>\n",
       "      <td>4398621</td>\n",
       "      <td>public</td>\n",
       "      <td>https://a.thumbs.redditmedia.com/tMTYN40x_UWqQ...</td>\n",
       "      <td>140.0</td>\n",
       "      <td>140.0</td>\n",
       "      <td>Yorkie brings stray kitten home .</td>\n",
       "      <td>0</td>\n",
       "      <td>[]</td>\n",
       "      <td>1.0</td>\n",
       "      <td>https://v.redd.it/fwwrybncvfq71</td>\n",
       "      <td>https://v.redd.it/fwwrybncvfq71</td>\n",
       "      <td>all_ads</td>\n",
       "      <td>6</td>\n",
       "      <td>NaN</td>\n",
       "      <td>NaN</td>\n",
       "      <td>NaN</td>\n",
       "      <td>NaN</td>\n",
       "      <td>NaN</td>\n",
       "      <td>NaN</td>\n",
       "      <td>NaN</td>\n",
       "      <td>NaN</td>\n",
       "      <td>NaN</td>\n",
       "      <td>NaN</td>\n",
       "      <td>NaN</td>\n",
       "      <td>NaN</td>\n",
       "    </tr>\n",
       "    <tr>\n",
       "      <th>1</th>\n",
       "      <td>[]</td>\n",
       "      <td>False</td>\n",
       "      <td>mkrkholil</td>\n",
       "      <td>None</td>\n",
       "      <td>[]</td>\n",
       "      <td>None</td>\n",
       "      <td>text</td>\n",
       "      <td>t2_alxm3j9n</td>\n",
       "      <td>False</td>\n",
       "      <td>False</td>\n",
       "      <td>False</td>\n",
       "      <td>[]</td>\n",
       "      <td>False</td>\n",
       "      <td>False</td>\n",
       "      <td>1632913523</td>\n",
       "      <td>i.redd.it</td>\n",
       "      <td>https://www.reddit.com/r/AnimalsBeingBros/comm...</td>\n",
       "      <td>{}</td>\n",
       "      <td>pxt25k</td>\n",
       "      <td>False</td>\n",
       "      <td>False</td>\n",
       "      <td>False</td>\n",
       "      <td>False</td>\n",
       "      <td>True</td>\n",
       "      <td>False</td>\n",
       "      <td>False</td>\n",
       "      <td>False</td>\n",
       "      <td></td>\n",
       "      <td>[]</td>\n",
       "      <td>dark</td>\n",
       "      <td>text</td>\n",
       "      <td>False</td>\n",
       "      <td>False</td>\n",
       "      <td>True</td>\n",
       "      <td>0</td>\n",
       "      <td>0</td>\n",
       "      <td>False</td>\n",
       "      <td>all_ads</td>\n",
       "      <td>/r/AnimalsBeingBros/comments/pxt25k/hows_the_p...</td>\n",
       "      <td>False</td>\n",
       "      <td>image</td>\n",
       "      <td>{'enabled': True, 'images': [{'id': '5UyvWnYnz...</td>\n",
       "      <td>6</td>\n",
       "      <td>1632913535</td>\n",
       "      <td>1</td>\n",
       "      <td></td>\n",
       "      <td>True</td>\n",
       "      <td>False</td>\n",
       "      <td>False</td>\n",
       "      <td>AnimalsBeingBros</td>\n",
       "      <td>t5_2wmvy</td>\n",
       "      <td>4398502</td>\n",
       "      <td>public</td>\n",
       "      <td>https://a.thumbs.redditmedia.com/Hi5QsFB0VnpxU...</td>\n",
       "      <td>140.0</td>\n",
       "      <td>140.0</td>\n",
       "      <td>How's the puppy? The puppy is cute to me!</td>\n",
       "      <td>0</td>\n",
       "      <td>[]</td>\n",
       "      <td>1.0</td>\n",
       "      <td>https://i.redd.it/1p7i2kpncfq71.jpg</td>\n",
       "      <td>https://i.redd.it/1p7i2kpncfq71.jpg</td>\n",
       "      <td>all_ads</td>\n",
       "      <td>6</td>\n",
       "      <td>reddit</td>\n",
       "      <td>NaN</td>\n",
       "      <td>NaN</td>\n",
       "      <td>NaN</td>\n",
       "      <td>NaN</td>\n",
       "      <td>NaN</td>\n",
       "      <td>NaN</td>\n",
       "      <td>NaN</td>\n",
       "      <td>NaN</td>\n",
       "      <td>NaN</td>\n",
       "      <td>NaN</td>\n",
       "      <td>NaN</td>\n",
       "    </tr>\n",
       "    <tr>\n",
       "      <th>2</th>\n",
       "      <td>[]</td>\n",
       "      <td>False</td>\n",
       "      <td>doggiesdos</td>\n",
       "      <td>None</td>\n",
       "      <td>[]</td>\n",
       "      <td>None</td>\n",
       "      <td>text</td>\n",
       "      <td>t2_djxt72ft</td>\n",
       "      <td>False</td>\n",
       "      <td>False</td>\n",
       "      <td>False</td>\n",
       "      <td>[]</td>\n",
       "      <td>False</td>\n",
       "      <td>False</td>\n",
       "      <td>1632913327</td>\n",
       "      <td>self.AnimalsBeingBros</td>\n",
       "      <td>https://www.reddit.com/r/AnimalsBeingBros/comm...</td>\n",
       "      <td>{}</td>\n",
       "      <td>pxt0d4</td>\n",
       "      <td>False</td>\n",
       "      <td>False</td>\n",
       "      <td>False</td>\n",
       "      <td>False</td>\n",
       "      <td>False</td>\n",
       "      <td>False</td>\n",
       "      <td>True</td>\n",
       "      <td>False</td>\n",
       "      <td></td>\n",
       "      <td>[]</td>\n",
       "      <td>dark</td>\n",
       "      <td>text</td>\n",
       "      <td>False</td>\n",
       "      <td>False</td>\n",
       "      <td>True</td>\n",
       "      <td>0</td>\n",
       "      <td>0</td>\n",
       "      <td>False</td>\n",
       "      <td>all_ads</td>\n",
       "      <td>/r/AnimalsBeingBros/comments/pxt0d4/bowls_and_...</td>\n",
       "      <td>False</td>\n",
       "      <td>NaN</td>\n",
       "      <td>NaN</td>\n",
       "      <td>6</td>\n",
       "      <td>1632913339</td>\n",
       "      <td>1</td>\n",
       "      <td>[removed]</td>\n",
       "      <td>True</td>\n",
       "      <td>True</td>\n",
       "      <td>False</td>\n",
       "      <td>AnimalsBeingBros</td>\n",
       "      <td>t5_2wmvy</td>\n",
       "      <td>4398497</td>\n",
       "      <td>public</td>\n",
       "      <td>spoiler</td>\n",
       "      <td>NaN</td>\n",
       "      <td>NaN</td>\n",
       "      <td>Bowls and Feeders for Dogs and Cats</td>\n",
       "      <td>0</td>\n",
       "      <td>[]</td>\n",
       "      <td>1.0</td>\n",
       "      <td>https://www.reddit.com/r/AnimalsBeingBros/comm...</td>\n",
       "      <td>NaN</td>\n",
       "      <td>all_ads</td>\n",
       "      <td>6</td>\n",
       "      <td>reddit</td>\n",
       "      <td>NaN</td>\n",
       "      <td>NaN</td>\n",
       "      <td>NaN</td>\n",
       "      <td>NaN</td>\n",
       "      <td>NaN</td>\n",
       "      <td>NaN</td>\n",
       "      <td>NaN</td>\n",
       "      <td>NaN</td>\n",
       "      <td>NaN</td>\n",
       "      <td>NaN</td>\n",
       "      <td>NaN</td>\n",
       "    </tr>\n",
       "    <tr>\n",
       "      <th>3</th>\n",
       "      <td>[]</td>\n",
       "      <td>False</td>\n",
       "      <td>jinhyesung</td>\n",
       "      <td>None</td>\n",
       "      <td>[]</td>\n",
       "      <td>None</td>\n",
       "      <td>text</td>\n",
       "      <td>t2_ead3wm5v</td>\n",
       "      <td>False</td>\n",
       "      <td>False</td>\n",
       "      <td>False</td>\n",
       "      <td>[]</td>\n",
       "      <td>False</td>\n",
       "      <td>False</td>\n",
       "      <td>1632911537</td>\n",
       "      <td>youtube.com</td>\n",
       "      <td>https://www.reddit.com/r/AnimalsBeingBros/comm...</td>\n",
       "      <td>{}</td>\n",
       "      <td>pxsle1</td>\n",
       "      <td>False</td>\n",
       "      <td>False</td>\n",
       "      <td>False</td>\n",
       "      <td>False</td>\n",
       "      <td>False</td>\n",
       "      <td>False</td>\n",
       "      <td>False</td>\n",
       "      <td>False</td>\n",
       "      <td></td>\n",
       "      <td>[]</td>\n",
       "      <td>dark</td>\n",
       "      <td>text</td>\n",
       "      <td>False</td>\n",
       "      <td>False</td>\n",
       "      <td>True</td>\n",
       "      <td>0</td>\n",
       "      <td>0</td>\n",
       "      <td>False</td>\n",
       "      <td>all_ads</td>\n",
       "      <td>/r/AnimalsBeingBros/comments/pxsle1/small_baby...</td>\n",
       "      <td>False</td>\n",
       "      <td>rich:video</td>\n",
       "      <td>{'enabled': False, 'images': [{'id': 'Vj7SC0_C...</td>\n",
       "      <td>6</td>\n",
       "      <td>1632911548</td>\n",
       "      <td>1</td>\n",
       "      <td></td>\n",
       "      <td>True</td>\n",
       "      <td>False</td>\n",
       "      <td>False</td>\n",
       "      <td>AnimalsBeingBros</td>\n",
       "      <td>t5_2wmvy</td>\n",
       "      <td>4398461</td>\n",
       "      <td>public</td>\n",
       "      <td>https://b.thumbs.redditmedia.com/KnY4_OzFEhB8z...</td>\n",
       "      <td>105.0</td>\n",
       "      <td>140.0</td>\n",
       "      <td>small baby puppies</td>\n",
       "      <td>0</td>\n",
       "      <td>[]</td>\n",
       "      <td>1.0</td>\n",
       "      <td>https://youtube.com/watch?v=cuzSLv9rmX8&amp;amp;fe...</td>\n",
       "      <td>https://youtube.com/watch?v=cuzSLv9rmX8&amp;amp;fe...</td>\n",
       "      <td>all_ads</td>\n",
       "      <td>6</td>\n",
       "      <td>reddit</td>\n",
       "      <td>{'oembed': {'author_name': 'Bowwow Studio', 'a...</td>\n",
       "      <td>{'content': '&amp;lt;iframe width=\"356\" height=\"20...</td>\n",
       "      <td>{'oembed': {'author_name': 'Bowwow Studio', 'a...</td>\n",
       "      <td>{'content': '&amp;lt;iframe width=\"356\" height=\"20...</td>\n",
       "      <td>NaN</td>\n",
       "      <td>NaN</td>\n",
       "      <td>NaN</td>\n",
       "      <td>NaN</td>\n",
       "      <td>NaN</td>\n",
       "      <td>NaN</td>\n",
       "      <td>NaN</td>\n",
       "    </tr>\n",
       "    <tr>\n",
       "      <th>4</th>\n",
       "      <td>[]</td>\n",
       "      <td>False</td>\n",
       "      <td>[deleted]</td>\n",
       "      <td>None</td>\n",
       "      <td>NaN</td>\n",
       "      <td>None</td>\n",
       "      <td>NaN</td>\n",
       "      <td>NaN</td>\n",
       "      <td>False</td>\n",
       "      <td>NaN</td>\n",
       "      <td>NaN</td>\n",
       "      <td>[]</td>\n",
       "      <td>False</td>\n",
       "      <td>False</td>\n",
       "      <td>1632908200</td>\n",
       "      <td>i.redd.it</td>\n",
       "      <td>https://www.reddit.com/r/AnimalsBeingBros/comm...</td>\n",
       "      <td>{}</td>\n",
       "      <td>pxrvzk</td>\n",
       "      <td>False</td>\n",
       "      <td>False</td>\n",
       "      <td>False</td>\n",
       "      <td>False</td>\n",
       "      <td>True</td>\n",
       "      <td>False</td>\n",
       "      <td>False</td>\n",
       "      <td>False</td>\n",
       "      <td></td>\n",
       "      <td>[]</td>\n",
       "      <td>dark</td>\n",
       "      <td>text</td>\n",
       "      <td>False</td>\n",
       "      <td>False</td>\n",
       "      <td>True</td>\n",
       "      <td>0</td>\n",
       "      <td>0</td>\n",
       "      <td>False</td>\n",
       "      <td>all_ads</td>\n",
       "      <td>/r/AnimalsBeingBros/comments/pxrvzk/please_vot...</td>\n",
       "      <td>False</td>\n",
       "      <td>NaN</td>\n",
       "      <td>NaN</td>\n",
       "      <td>6</td>\n",
       "      <td>1632908211</td>\n",
       "      <td>1</td>\n",
       "      <td>[deleted]</td>\n",
       "      <td>True</td>\n",
       "      <td>False</td>\n",
       "      <td>False</td>\n",
       "      <td>AnimalsBeingBros</td>\n",
       "      <td>t5_2wmvy</td>\n",
       "      <td>4398415</td>\n",
       "      <td>public</td>\n",
       "      <td>default</td>\n",
       "      <td>140.0</td>\n",
       "      <td>140.0</td>\n",
       "      <td>Please vote for my post</td>\n",
       "      <td>0</td>\n",
       "      <td>[]</td>\n",
       "      <td>1.0</td>\n",
       "      <td>https://i.redd.it/fasblc8vweq71.jpg</td>\n",
       "      <td>https://i.redd.it/fasblc8vweq71.jpg</td>\n",
       "      <td>all_ads</td>\n",
       "      <td>6</td>\n",
       "      <td>deleted</td>\n",
       "      <td>NaN</td>\n",
       "      <td>NaN</td>\n",
       "      <td>NaN</td>\n",
       "      <td>NaN</td>\n",
       "      <td></td>\n",
       "      <td>dark</td>\n",
       "      <td>NaN</td>\n",
       "      <td>NaN</td>\n",
       "      <td>NaN</td>\n",
       "      <td>NaN</td>\n",
       "      <td>NaN</td>\n",
       "    </tr>\n",
       "  </tbody>\n",
       "</table>\n",
       "</div>"
      ],
      "text/plain": [
       "  all_awardings  allow_live_comments       author author_flair_css_class  \\\n",
       "0            []                False  rominaalvar                   None   \n",
       "1            []                False    mkrkholil                   None   \n",
       "2            []                False   doggiesdos                   None   \n",
       "3            []                False   jinhyesung                   None   \n",
       "4            []                False    [deleted]                   None   \n",
       "\n",
       "  author_flair_richtext author_flair_text author_flair_type author_fullname  \\\n",
       "0                    []              None              text     t2_cu2t21xt   \n",
       "1                    []              None              text     t2_alxm3j9n   \n",
       "2                    []              None              text     t2_djxt72ft   \n",
       "3                    []              None              text     t2_ead3wm5v   \n",
       "4                   NaN              None               NaN             NaN   \n",
       "\n",
       "   author_is_blocked author_patreon_flair author_premium awarders  \\\n",
       "0              False                False          False       []   \n",
       "1              False                False          False       []   \n",
       "2              False                False          False       []   \n",
       "3              False                False          False       []   \n",
       "4              False                  NaN            NaN       []   \n",
       "\n",
       "   can_mod_post  contest_mode  created_utc  \\\n",
       "0         False         False   1632919835   \n",
       "1         False         False   1632913523   \n",
       "2         False         False   1632913327   \n",
       "3         False         False   1632911537   \n",
       "4         False         False   1632908200   \n",
       "\n",
       "                                              domain  \\\n",
       "0  /r/AnimalsBeingBros/comments/pxupcm/yorkie_bri...   \n",
       "1                                          i.redd.it   \n",
       "2                              self.AnimalsBeingBros   \n",
       "3                                        youtube.com   \n",
       "4                                          i.redd.it   \n",
       "\n",
       "                                           full_link gildings      id  \\\n",
       "0  https://www.reddit.com/r/AnimalsBeingBros/comm...       {}  pxupcm   \n",
       "1  https://www.reddit.com/r/AnimalsBeingBros/comm...       {}  pxt25k   \n",
       "2  https://www.reddit.com/r/AnimalsBeingBros/comm...       {}  pxt0d4   \n",
       "3  https://www.reddit.com/r/AnimalsBeingBros/comm...       {}  pxsle1   \n",
       "4  https://www.reddit.com/r/AnimalsBeingBros/comm...       {}  pxrvzk   \n",
       "\n",
       "   is_created_from_ads_ui  is_crosspostable  is_meta  is_original_content  \\\n",
       "0                   False              True    False                False   \n",
       "1                   False             False    False                False   \n",
       "2                   False             False    False                False   \n",
       "3                   False             False    False                False   \n",
       "4                   False             False    False                False   \n",
       "\n",
       "   is_reddit_media_domain  is_robot_indexable  is_self  is_video  \\\n",
       "0                   False                True    False      True   \n",
       "1                    True               False    False     False   \n",
       "2                   False               False     True     False   \n",
       "3                   False               False    False     False   \n",
       "4                    True               False    False     False   \n",
       "\n",
       "  link_flair_background_color link_flair_richtext link_flair_text_color  \\\n",
       "0                                              []                  dark   \n",
       "1                                              []                  dark   \n",
       "2                                              []                  dark   \n",
       "3                                              []                  dark   \n",
       "4                                              []                  dark   \n",
       "\n",
       "  link_flair_type  locked  media_only  no_follow  num_comments  \\\n",
       "0            text   False       False       True             0   \n",
       "1            text   False       False       True             0   \n",
       "2            text   False       False       True             0   \n",
       "3            text   False       False       True             0   \n",
       "4            text   False       False       True             0   \n",
       "\n",
       "   num_crossposts  over_18 parent_whitelist_status  \\\n",
       "0               0    False                 all_ads   \n",
       "1               0    False                 all_ads   \n",
       "2               0    False                 all_ads   \n",
       "3               0    False                 all_ads   \n",
       "4               0    False                 all_ads   \n",
       "\n",
       "                                           permalink  pinned     post_hint  \\\n",
       "0  /r/AnimalsBeingBros/comments/pxupcm/yorkie_bri...   False  hosted:video   \n",
       "1  /r/AnimalsBeingBros/comments/pxt25k/hows_the_p...   False         image   \n",
       "2  /r/AnimalsBeingBros/comments/pxt0d4/bowls_and_...   False           NaN   \n",
       "3  /r/AnimalsBeingBros/comments/pxsle1/small_baby...   False    rich:video   \n",
       "4  /r/AnimalsBeingBros/comments/pxrvzk/please_vot...   False           NaN   \n",
       "\n",
       "                                             preview  pwls  retrieved_on  \\\n",
       "0  {'enabled': False, 'images': [{'id': 'kY8lqzL2...     6    1632919846   \n",
       "1  {'enabled': True, 'images': [{'id': '5UyvWnYnz...     6    1632913535   \n",
       "2                                                NaN     6    1632913339   \n",
       "3  {'enabled': False, 'images': [{'id': 'Vj7SC0_C...     6    1632911548   \n",
       "4                                                NaN     6    1632908211   \n",
       "\n",
       "   score   selftext  send_replies  spoiler  stickied         subreddit  \\\n",
       "0      1                     True    False     False  AnimalsBeingBros   \n",
       "1      1                     True    False     False  AnimalsBeingBros   \n",
       "2      1  [removed]          True     True     False  AnimalsBeingBros   \n",
       "3      1                     True    False     False  AnimalsBeingBros   \n",
       "4      1  [deleted]          True    False     False  AnimalsBeingBros   \n",
       "\n",
       "  subreddit_id  subreddit_subscribers subreddit_type  \\\n",
       "0     t5_2wmvy                4398621         public   \n",
       "1     t5_2wmvy                4398502         public   \n",
       "2     t5_2wmvy                4398497         public   \n",
       "3     t5_2wmvy                4398461         public   \n",
       "4     t5_2wmvy                4398415         public   \n",
       "\n",
       "                                           thumbnail  thumbnail_height  \\\n",
       "0  https://a.thumbs.redditmedia.com/tMTYN40x_UWqQ...             140.0   \n",
       "1  https://a.thumbs.redditmedia.com/Hi5QsFB0VnpxU...             140.0   \n",
       "2                                            spoiler               NaN   \n",
       "3  https://b.thumbs.redditmedia.com/KnY4_OzFEhB8z...             105.0   \n",
       "4                                            default             140.0   \n",
       "\n",
       "   thumbnail_width                                      title  \\\n",
       "0            140.0          Yorkie brings stray kitten home .   \n",
       "1            140.0  How's the puppy? The puppy is cute to me!   \n",
       "2              NaN        Bowls and Feeders for Dogs and Cats   \n",
       "3            140.0                         small baby puppies   \n",
       "4            140.0                    Please vote for my post   \n",
       "\n",
       "   total_awards_received treatment_tags  upvote_ratio  \\\n",
       "0                      0             []           1.0   \n",
       "1                      0             []           1.0   \n",
       "2                      0             []           1.0   \n",
       "3                      0             []           1.0   \n",
       "4                      0             []           1.0   \n",
       "\n",
       "                                                 url  \\\n",
       "0                    https://v.redd.it/fwwrybncvfq71   \n",
       "1                https://i.redd.it/1p7i2kpncfq71.jpg   \n",
       "2  https://www.reddit.com/r/AnimalsBeingBros/comm...   \n",
       "3  https://youtube.com/watch?v=cuzSLv9rmX8&amp;fe...   \n",
       "4                https://i.redd.it/fasblc8vweq71.jpg   \n",
       "\n",
       "                              url_overridden_by_dest whitelist_status  wls  \\\n",
       "0                    https://v.redd.it/fwwrybncvfq71          all_ads    6   \n",
       "1                https://i.redd.it/1p7i2kpncfq71.jpg          all_ads    6   \n",
       "2                                                NaN          all_ads    6   \n",
       "3  https://youtube.com/watch?v=cuzSLv9rmX8&amp;fe...          all_ads    6   \n",
       "4                https://i.redd.it/fasblc8vweq71.jpg          all_ads    6   \n",
       "\n",
       "  removed_by_category                                              media  \\\n",
       "0                 NaN                                                NaN   \n",
       "1              reddit                                                NaN   \n",
       "2              reddit                                                NaN   \n",
       "3              reddit  {'oembed': {'author_name': 'Bowwow Studio', 'a...   \n",
       "4             deleted                                                NaN   \n",
       "\n",
       "                                         media_embed  \\\n",
       "0                                                NaN   \n",
       "1                                                NaN   \n",
       "2                                                NaN   \n",
       "3  {'content': '&lt;iframe width=\"356\" height=\"20...   \n",
       "4                                                NaN   \n",
       "\n",
       "                                        secure_media  \\\n",
       "0                                                NaN   \n",
       "1                                                NaN   \n",
       "2                                                NaN   \n",
       "3  {'oembed': {'author_name': 'Bowwow Studio', 'a...   \n",
       "4                                                NaN   \n",
       "\n",
       "                                  secure_media_embed  \\\n",
       "0                                                NaN   \n",
       "1                                                NaN   \n",
       "2                                                NaN   \n",
       "3  {'content': '&lt;iframe width=\"356\" height=\"20...   \n",
       "4                                                NaN   \n",
       "\n",
       "  author_flair_background_color author_flair_text_color  \\\n",
       "0                           NaN                     NaN   \n",
       "1                           NaN                     NaN   \n",
       "2                           NaN                     NaN   \n",
       "3                           NaN                     NaN   \n",
       "4                                                  dark   \n",
       "\n",
       "  link_flair_template_id link_flair_text banned_by media_metadata  \\\n",
       "0                    NaN             NaN       NaN            NaN   \n",
       "1                    NaN             NaN       NaN            NaN   \n",
       "2                    NaN             NaN       NaN            NaN   \n",
       "3                    NaN             NaN       NaN            NaN   \n",
       "4                    NaN             NaN       NaN            NaN   \n",
       "\n",
       "  author_cakeday  \n",
       "0            NaN  \n",
       "1            NaN  \n",
       "2            NaN  \n",
       "3            NaN  \n",
       "4            NaN  "
      ]
     },
     "execution_count": 158,
     "metadata": {},
     "output_type": "execute_result"
    }
   ],
   "source": [
    "bros.head()"
   ]
  },
  {
   "cell_type": "code",
   "execution_count": 159,
   "id": "8a1cdeb8-b35d-4235-a22e-25cac57770cc",
   "metadata": {},
   "outputs": [],
   "source": [
    "bros_words = bros[['subreddit','title']]"
   ]
  },
  {
   "cell_type": "code",
   "execution_count": 160,
   "id": "f0bf65ef-0a39-4e88-afa1-fa7e9bffb7ea",
   "metadata": {},
   "outputs": [],
   "source": [
    "#bros_words = bros_words.drop([14,27,40,41,42,43,44,45,46,47,48,49,87,103,107,129,142,143,144,146,147,148,149,150,151,152,153,159,164,185,214,216,293,295,296,297,298,300,301,311,266,293,294,410,415,449,455,460,466,475,497,498])"
   ]
  },
  {
   "cell_type": "code",
   "execution_count": 161,
   "id": "916d77f0-263b-402f-bbe0-c566531ab730",
   "metadata": {},
   "outputs": [
    {
     "name": "stderr",
     "output_type": "stream",
     "text": [
      "<ipython-input-161-9d8fb748fc1f>:1: SettingWithCopyWarning: \n",
      "A value is trying to be set on a copy of a slice from a DataFrame\n",
      "\n",
      "See the caveats in the documentation: https://pandas.pydata.org/pandas-docs/stable/user_guide/indexing.html#returning-a-view-versus-a-copy\n",
      "  bros_words.drop_duplicates(inplace=True),\n"
     ]
    },
    {
     "data": {
      "text/plain": [
       "(None,)"
      ]
     },
     "execution_count": 161,
     "metadata": {},
     "output_type": "execute_result"
    }
   ],
   "source": [
    "bros_words.drop_duplicates(inplace=True),"
   ]
  },
  {
   "cell_type": "markdown",
   "id": "8da3c109-dc5c-4147-b0a9-b9d5cf3f264c",
   "metadata": {},
   "source": [
    "### Combine "
   ]
  },
  {
   "cell_type": "code",
   "execution_count": 225,
   "id": "5223b74c-408c-43d9-b804-18efade94863",
   "metadata": {},
   "outputs": [],
   "source": [
    "words = pd.concat([bros_words,jerks_words])"
   ]
  },
  {
   "cell_type": "code",
   "execution_count": 226,
   "id": "b596ac19-eec1-45d3-a237-a052cdd5c274",
   "metadata": {},
   "outputs": [
    {
     "data": {
      "text/html": [
       "<div>\n",
       "<style scoped>\n",
       "    .dataframe tbody tr th:only-of-type {\n",
       "        vertical-align: middle;\n",
       "    }\n",
       "\n",
       "    .dataframe tbody tr th {\n",
       "        vertical-align: top;\n",
       "    }\n",
       "\n",
       "    .dataframe thead th {\n",
       "        text-align: right;\n",
       "    }\n",
       "</style>\n",
       "<table border=\"1\" class=\"dataframe\">\n",
       "  <thead>\n",
       "    <tr style=\"text-align: right;\">\n",
       "      <th></th>\n",
       "      <th>subreddit</th>\n",
       "      <th>title</th>\n",
       "    </tr>\n",
       "  </thead>\n",
       "  <tbody>\n",
       "    <tr>\n",
       "      <th>0</th>\n",
       "      <td>AnimalsBeingBros</td>\n",
       "      <td>Yorkie brings stray kitten home .</td>\n",
       "    </tr>\n",
       "    <tr>\n",
       "      <th>1</th>\n",
       "      <td>AnimalsBeingBros</td>\n",
       "      <td>How's the puppy? The puppy is cute to me!</td>\n",
       "    </tr>\n",
       "    <tr>\n",
       "      <th>2</th>\n",
       "      <td>AnimalsBeingBros</td>\n",
       "      <td>Bowls and Feeders for Dogs and Cats</td>\n",
       "    </tr>\n",
       "    <tr>\n",
       "      <th>3</th>\n",
       "      <td>AnimalsBeingBros</td>\n",
       "      <td>small baby puppies</td>\n",
       "    </tr>\n",
       "    <tr>\n",
       "      <th>4</th>\n",
       "      <td>AnimalsBeingBros</td>\n",
       "      <td>Please vote for my post</td>\n",
       "    </tr>\n",
       "  </tbody>\n",
       "</table>\n",
       "</div>"
      ],
      "text/plain": [
       "          subreddit                                      title\n",
       "0  AnimalsBeingBros          Yorkie brings stray kitten home .\n",
       "1  AnimalsBeingBros  How's the puppy? The puppy is cute to me!\n",
       "2  AnimalsBeingBros        Bowls and Feeders for Dogs and Cats\n",
       "3  AnimalsBeingBros                         small baby puppies\n",
       "4  AnimalsBeingBros                    Please vote for my post"
      ]
     },
     "execution_count": 226,
     "metadata": {},
     "output_type": "execute_result"
    }
   ],
   "source": [
    "words.head()"
   ]
  },
  {
   "cell_type": "code",
   "execution_count": 164,
   "id": "d0858d24-036a-4ae1-b5a8-300ac79d6c0e",
   "metadata": {},
   "outputs": [
    {
     "data": {
      "text/html": [
       "<div>\n",
       "<style scoped>\n",
       "    .dataframe tbody tr th:only-of-type {\n",
       "        vertical-align: middle;\n",
       "    }\n",
       "\n",
       "    .dataframe tbody tr th {\n",
       "        vertical-align: top;\n",
       "    }\n",
       "\n",
       "    .dataframe thead th {\n",
       "        text-align: right;\n",
       "    }\n",
       "</style>\n",
       "<table border=\"1\" class=\"dataframe\">\n",
       "  <thead>\n",
       "    <tr style=\"text-align: right;\">\n",
       "      <th></th>\n",
       "      <th>title</th>\n",
       "    </tr>\n",
       "    <tr>\n",
       "      <th>subreddit</th>\n",
       "      <th></th>\n",
       "    </tr>\n",
       "  </thead>\n",
       "  <tbody>\n",
       "    <tr>\n",
       "      <th>AnimalsBeingBros</th>\n",
       "      <td>943</td>\n",
       "    </tr>\n",
       "    <tr>\n",
       "      <th>AnimalsBeingJerks</th>\n",
       "      <td>972</td>\n",
       "    </tr>\n",
       "  </tbody>\n",
       "</table>\n",
       "</div>"
      ],
      "text/plain": [
       "                   title\n",
       "subreddit               \n",
       "AnimalsBeingBros     943\n",
       "AnimalsBeingJerks    972"
      ]
     },
     "execution_count": 164,
     "metadata": {},
     "output_type": "execute_result"
    }
   ],
   "source": [
    "words.groupby(by=['subreddit']).count()"
   ]
  },
  {
   "cell_type": "code",
   "execution_count": 221,
   "id": "f73e1b50-0022-4b5d-8b7c-85462fea842e",
   "metadata": {},
   "outputs": [
    {
     "data": {
      "text/plain": [
       "AnimalsBeingJerks    0.507572\n",
       "AnimalsBeingBros     0.492428\n",
       "Name: subreddit, dtype: float64"
      ]
     },
     "execution_count": 221,
     "metadata": {},
     "output_type": "execute_result"
    }
   ],
   "source": [
    "words['subreddit'].value_counts(normalize=True)"
   ]
  },
  {
   "cell_type": "markdown",
   "id": "8ff334ae-80d6-4bbe-8757-100b94e56b72",
   "metadata": {},
   "source": [
    "# Count Vectorizer"
   ]
  },
  {
   "cell_type": "code",
   "execution_count": 165,
   "id": "f8699488-16d3-4d91-af59-e09c40079f0d",
   "metadata": {},
   "outputs": [],
   "source": [
    "cv = CountVectorizer(stop_words='english',)"
   ]
  },
  {
   "cell_type": "code",
   "execution_count": 166,
   "id": "32b967ea-4e56-419c-98b6-aa0ff284a752",
   "metadata": {},
   "outputs": [],
   "source": [
    "words_vec = pd.DataFrame(cv.fit_transform(words['title']).todense(),columns=cv.get_feature_names())"
   ]
  },
  {
   "cell_type": "code",
   "execution_count": 167,
   "id": "a0660301-5ad1-4ed8-bd8e-e661e970a19f",
   "metadata": {},
   "outputs": [],
   "source": [
    "words_vec.reset_index(inplace=True, drop=True)"
   ]
  },
  {
   "cell_type": "code",
   "execution_count": 168,
   "id": "b1c332ae-e6cf-4ddc-800d-c54228dc35fe",
   "metadata": {},
   "outputs": [],
   "source": [
    "subreddit_names = pd.DataFrame(words['subreddit'])"
   ]
  },
  {
   "cell_type": "code",
   "execution_count": 169,
   "id": "b4b9ce7a-d28b-425f-a9c8-3ce5ab684d1e",
   "metadata": {},
   "outputs": [],
   "source": [
    "subreddit_names.reset_index(inplace=True, drop=True)"
   ]
  },
  {
   "cell_type": "code",
   "execution_count": 170,
   "id": "fbcc7f5d-95e0-4b31-b57a-9bbde7a95a48",
   "metadata": {},
   "outputs": [],
   "source": [
    "words_vec.head();"
   ]
  },
  {
   "cell_type": "code",
   "execution_count": 171,
   "id": "b97ada30-766f-4d3f-b5a6-127c10e833e5",
   "metadata": {},
   "outputs": [],
   "source": [
    "words_vec_combine= pd.concat([subreddit_names,words_vec], axis = 1)"
   ]
  },
  {
   "cell_type": "code",
   "execution_count": null,
   "id": "8574b3e3-811d-46f5-bb64-7c83b25f8895",
   "metadata": {},
   "outputs": [],
   "source": []
  },
  {
   "cell_type": "code",
   "execution_count": 349,
   "id": "e227094a-cbf1-4ea7-82ab-303d6aaa8b59",
   "metadata": {},
   "outputs": [
    {
     "data": {
      "text/plain": [
       "Index(['subreddit', 'title'], dtype='object')"
      ]
     },
     "execution_count": 349,
     "metadata": {},
     "output_type": "execute_result"
    }
   ],
   "source": [
    "words.columns"
   ]
  },
  {
   "cell_type": "markdown",
   "id": "9a6f8155-46e0-4bba-8827-7fcfc27e1a1c",
   "metadata": {},
   "source": []
  },
  {
   "cell_type": "markdown",
   "id": "329aae33-e62c-4d0a-8652-03c0eac321bd",
   "metadata": {},
   "source": [
    "# EDA"
   ]
  },
  {
   "cell_type": "code",
   "execution_count": 173,
   "id": "f553fbc9-642f-4d6f-b25f-182a3e3676f7",
   "metadata": {},
   "outputs": [
    {
     "data": {
      "text/html": [
       "<div>\n",
       "<style scoped>\n",
       "    .dataframe tbody tr th:only-of-type {\n",
       "        vertical-align: middle;\n",
       "    }\n",
       "\n",
       "    .dataframe tbody tr th {\n",
       "        vertical-align: top;\n",
       "    }\n",
       "\n",
       "    .dataframe thead th {\n",
       "        text-align: right;\n",
       "    }\n",
       "</style>\n",
       "<table border=\"1\" class=\"dataframe\">\n",
       "  <thead>\n",
       "    <tr style=\"text-align: right;\">\n",
       "      <th>subreddit</th>\n",
       "      <th>AnimalsBeingBros</th>\n",
       "      <th>AnimalsBeingJerks</th>\n",
       "    </tr>\n",
       "  </thead>\n",
       "  <tbody>\n",
       "    <tr>\n",
       "      <th>dog</th>\n",
       "      <td>90</td>\n",
       "      <td>81</td>\n",
       "    </tr>\n",
       "    <tr>\n",
       "      <th>cat</th>\n",
       "      <td>84</td>\n",
       "      <td>105</td>\n",
       "    </tr>\n",
       "    <tr>\n",
       "      <th>cute</th>\n",
       "      <td>50</td>\n",
       "      <td>30</td>\n",
       "    </tr>\n",
       "    <tr>\n",
       "      <th>baby</th>\n",
       "      <td>43</td>\n",
       "      <td>17</td>\n",
       "    </tr>\n",
       "    <tr>\n",
       "      <th>dogs</th>\n",
       "      <td>28</td>\n",
       "      <td>23</td>\n",
       "    </tr>\n",
       "    <tr>\n",
       "      <th>animals</th>\n",
       "      <td>27</td>\n",
       "      <td>30</td>\n",
       "    </tr>\n",
       "    <tr>\n",
       "      <th>funny</th>\n",
       "      <td>27</td>\n",
       "      <td>23</td>\n",
       "    </tr>\n",
       "    <tr>\n",
       "      <th>video</th>\n",
       "      <td>24</td>\n",
       "      <td>15</td>\n",
       "    </tr>\n",
       "    <tr>\n",
       "      <th>like</th>\n",
       "      <td>24</td>\n",
       "      <td>26</td>\n",
       "    </tr>\n",
       "    <tr>\n",
       "      <th>best</th>\n",
       "      <td>23</td>\n",
       "      <td>10</td>\n",
       "    </tr>\n",
       "    <tr>\n",
       "      <th>vs</th>\n",
       "      <td>21</td>\n",
       "      <td>18</td>\n",
       "    </tr>\n",
       "    <tr>\n",
       "      <th>kitten</th>\n",
       "      <td>20</td>\n",
       "      <td>14</td>\n",
       "    </tr>\n",
       "    <tr>\n",
       "      <th>watch</th>\n",
       "      <td>20</td>\n",
       "      <td>21</td>\n",
       "    </tr>\n",
       "    <tr>\n",
       "      <th>just</th>\n",
       "      <td>20</td>\n",
       "      <td>36</td>\n",
       "    </tr>\n",
       "    <tr>\n",
       "      <th>https</th>\n",
       "      <td>20</td>\n",
       "      <td>18</td>\n",
       "    </tr>\n",
       "  </tbody>\n",
       "</table>\n",
       "</div>"
      ],
      "text/plain": [
       "subreddit  AnimalsBeingBros  AnimalsBeingJerks\n",
       "dog                      90                 81\n",
       "cat                      84                105\n",
       "cute                     50                 30\n",
       "baby                     43                 17\n",
       "dogs                     28                 23\n",
       "animals                  27                 30\n",
       "funny                    27                 23\n",
       "video                    24                 15\n",
       "like                     24                 26\n",
       "best                     23                 10\n",
       "vs                       21                 18\n",
       "kitten                   20                 14\n",
       "watch                    20                 21\n",
       "just                     20                 36\n",
       "https                    20                 18"
      ]
     },
     "execution_count": 173,
     "metadata": {},
     "output_type": "execute_result"
    }
   ],
   "source": [
    "words_vec_combine.groupby(by=words_vec_combine['subreddit']).sum().T.sort_values(by = 'AnimalsBeingBros',ascending = False).head(15)"
   ]
  },
  {
   "cell_type": "code",
   "execution_count": 350,
   "id": "4d24ab5a-13d8-41ea-b670-de6d5aba2673",
   "metadata": {},
   "outputs": [
    {
     "data": {
      "image/png": "[encoded data removed]",
      "text/plain": [
       "<Figure size 432x288 with 1 Axes>"
      ]
     },
     "metadata": {
      "needs_background": "light"
     },
     "output_type": "display_data"
    }
   ],
   "source": [
    "words_vec_combine.groupby(by=words_vec_combine['subreddit']).sum().T.sort_values(by = 'AnimalsBeingBros',ascending = False).head(10).plot(kind='bar');\n"
   ]
  },
  {
   "cell_type": "code",
   "execution_count": null,
   "id": "18c9dbbe-bfb0-4f91-8e90-d9066104d86c",
   "metadata": {},
   "outputs": [],
   "source": []
  },
  {
   "cell_type": "code",
   "execution_count": 175,
   "id": "3c4c7057-83a5-49a7-8178-4c88714cf26c",
   "metadata": {},
   "outputs": [
    {
     "data": {
      "text/html": [
       "<div>\n",
       "<style scoped>\n",
       "    .dataframe tbody tr th:only-of-type {\n",
       "        vertical-align: middle;\n",
       "    }\n",
       "\n",
       "    .dataframe tbody tr th {\n",
       "        vertical-align: top;\n",
       "    }\n",
       "\n",
       "    .dataframe thead th {\n",
       "        text-align: right;\n",
       "    }\n",
       "</style>\n",
       "<table border=\"1\" class=\"dataframe\">\n",
       "  <thead>\n",
       "    <tr style=\"text-align: right;\">\n",
       "      <th>subreddit</th>\n",
       "      <th>AnimalsBeingBros</th>\n",
       "      <th>AnimalsBeingJerks</th>\n",
       "    </tr>\n",
       "  </thead>\n",
       "  <tbody>\n",
       "    <tr>\n",
       "      <th>cat</th>\n",
       "      <td>84</td>\n",
       "      <td>105</td>\n",
       "    </tr>\n",
       "    <tr>\n",
       "      <th>dog</th>\n",
       "      <td>90</td>\n",
       "      <td>81</td>\n",
       "    </tr>\n",
       "    <tr>\n",
       "      <th>just</th>\n",
       "      <td>20</td>\n",
       "      <td>36</td>\n",
       "    </tr>\n",
       "    <tr>\n",
       "      <th>animals</th>\n",
       "      <td>27</td>\n",
       "      <td>30</td>\n",
       "    </tr>\n",
       "    <tr>\n",
       "      <th>cute</th>\n",
       "      <td>50</td>\n",
       "      <td>30</td>\n",
       "    </tr>\n",
       "    <tr>\n",
       "      <th>like</th>\n",
       "      <td>24</td>\n",
       "      <td>26</td>\n",
       "    </tr>\n",
       "    <tr>\n",
       "      <th>new</th>\n",
       "      <td>11</td>\n",
       "      <td>24</td>\n",
       "    </tr>\n",
       "    <tr>\n",
       "      <th>funny</th>\n",
       "      <td>27</td>\n",
       "      <td>23</td>\n",
       "    </tr>\n",
       "    <tr>\n",
       "      <th>don</th>\n",
       "      <td>3</td>\n",
       "      <td>23</td>\n",
       "    </tr>\n",
       "    <tr>\n",
       "      <th>dogs</th>\n",
       "      <td>28</td>\n",
       "      <td>23</td>\n",
       "    </tr>\n",
       "    <tr>\n",
       "      <th>time</th>\n",
       "      <td>19</td>\n",
       "      <td>22</td>\n",
       "    </tr>\n",
       "    <tr>\n",
       "      <th>jerk</th>\n",
       "      <td>0</td>\n",
       "      <td>21</td>\n",
       "    </tr>\n",
       "    <tr>\n",
       "      <th>watch</th>\n",
       "      <td>20</td>\n",
       "      <td>21</td>\n",
       "    </tr>\n",
       "    <tr>\n",
       "      <th>https</th>\n",
       "      <td>20</td>\n",
       "      <td>18</td>\n",
       "    </tr>\n",
       "    <tr>\n",
       "      <th>youtube</th>\n",
       "      <td>18</td>\n",
       "      <td>18</td>\n",
       "    </tr>\n",
       "  </tbody>\n",
       "</table>\n",
       "</div>"
      ],
      "text/plain": [
       "subreddit  AnimalsBeingBros  AnimalsBeingJerks\n",
       "cat                      84                105\n",
       "dog                      90                 81\n",
       "just                     20                 36\n",
       "animals                  27                 30\n",
       "cute                     50                 30\n",
       "like                     24                 26\n",
       "new                      11                 24\n",
       "funny                    27                 23\n",
       "don                       3                 23\n",
       "dogs                     28                 23\n",
       "time                     19                 22\n",
       "jerk                      0                 21\n",
       "watch                    20                 21\n",
       "https                    20                 18\n",
       "youtube                  18                 18"
      ]
     },
     "execution_count": 175,
     "metadata": {},
     "output_type": "execute_result"
    }
   ],
   "source": [
    "words_vec_combine.groupby(by=words_vec_combine['subreddit']).sum().T.sort_values(by = 'AnimalsBeingJerks',ascending = False).head(15)"
   ]
  },
  {
   "cell_type": "code",
   "execution_count": 203,
   "id": "121d83d2-688e-4a53-85d3-a63c320ec623",
   "metadata": {},
   "outputs": [
    {
     "data": {
      "text/plain": [
       "<AxesSubplot:>"
      ]
     },
     "execution_count": 203,
     "metadata": {},
     "output_type": "execute_result"
    },
    {
     "data": {
      "image/png": "[encoded data removed]",
      "text/plain": [
       "<Figure size 432x288 with 1 Axes>"
      ]
     },
     "metadata": {
      "needs_background": "light"
     },
     "output_type": "display_data"
    }
   ],
   "source": [
    "words_vec_combine.groupby(by=words_vec_combine['subreddit']).sum().T.sort_values(by = 'AnimalsBeingJerks',ascending = False).head(10).plot(kind='bar')"
   ]
  },
  {
   "cell_type": "markdown",
   "id": "fffcaf9c-fa07-4af1-9e5e-0695fffd72b2",
   "metadata": {},
   "source": [
    "# Model "
   ]
  },
  {
   "cell_type": "markdown",
   "id": "40d9e8e9-5371-4fae-a820-662f441099da",
   "metadata": {},
   "source": [
    "### Random Forest"
   ]
  },
  {
   "cell_type": "code",
   "execution_count": 364,
   "id": "a8225180-f157-462b-84b0-ce3c0dfec168",
   "metadata": {},
   "outputs": [],
   "source": [
    "features = words_vec_combine.drop(columns = 'subreddit')"
   ]
  },
  {
   "cell_type": "code",
   "execution_count": 365,
   "id": "dd5d8b39-df71-4717-bd17-8b37fb92195e",
   "metadata": {},
   "outputs": [],
   "source": [
    "X = features"
   ]
  },
  {
   "cell_type": "code",
   "execution_count": 366,
   "id": "5f62a9d0-dd1d-40c5-9bde-3cd1e6c59aff",
   "metadata": {},
   "outputs": [],
   "source": [
    "y = words_vec_combine['subreddit']"
   ]
  },
  {
   "cell_type": "code",
   "execution_count": 367,
   "id": "0afa1d91-ff88-4ba6-b52c-2b7ef864618d",
   "metadata": {},
   "outputs": [],
   "source": [
    "X_train,X_test,y_train,y_test = train_test_split(X,y,random_state=42,stratify=y)"
   ]
  },
  {
   "cell_type": "code",
   "execution_count": 368,
   "id": "de0779f4-7159-4ae4-a8d3-9fe09429a2a2",
   "metadata": {},
   "outputs": [],
   "source": [
    "rfc = RandomForestClassifier(max_depth=5)"
   ]
  },
  {
   "cell_type": "code",
   "execution_count": 369,
   "id": "e3fe229b-3a50-411c-8f88-da5a4a10606b",
   "metadata": {},
   "outputs": [
    {
     "data": {
      "text/plain": [
       "RandomForestClassifier(max_depth=5)"
      ]
     },
     "execution_count": 369,
     "metadata": {},
     "output_type": "execute_result"
    }
   ],
   "source": [
    "rfc.fit(X_train,y_train)"
   ]
  },
  {
   "cell_type": "code",
   "execution_count": 370,
   "id": "5bd792a0-911c-48d5-8202-c67fa81ec8ef",
   "metadata": {},
   "outputs": [
    {
     "data": {
      "text/plain": [
       "0.6413649025069638"
      ]
     },
     "execution_count": 370,
     "metadata": {},
     "output_type": "execute_result"
    }
   ],
   "source": [
    "rfc.score(X_train,y_train)"
   ]
  },
  {
   "cell_type": "code",
   "execution_count": 371,
   "id": "bb7cf88f-9647-471f-92a9-937cb18d1772",
   "metadata": {},
   "outputs": [
    {
     "data": {
      "text/plain": [
       "0.5448851774530271"
      ]
     },
     "execution_count": 371,
     "metadata": {},
     "output_type": "execute_result"
    }
   ],
   "source": [
    "rfc.score(X_test,y_test)"
   ]
  },
  {
   "cell_type": "code",
   "execution_count": 372,
   "id": "d9cb20e5-3114-48b2-ba8b-7d5572c03b30",
   "metadata": {},
   "outputs": [],
   "source": [
    "# wow that's bad"
   ]
  },
  {
   "cell_type": "markdown",
   "id": "0632f459-13b4-4cd9-a4fb-01c830ed262d",
   "metadata": {},
   "source": [
    "### Extra trees"
   ]
  },
  {
   "cell_type": "code",
   "execution_count": 186,
   "id": "cd6a77dd-37d9-4d82-b453-dbdeaed5ed0e",
   "metadata": {},
   "outputs": [],
   "source": [
    "etc = ExtraTreesClassifier()"
   ]
  },
  {
   "cell_type": "code",
   "execution_count": 187,
   "id": "023978dc-69e2-46f8-98a4-27819f4abd87",
   "metadata": {},
   "outputs": [
    {
     "data": {
      "text/plain": [
       "ExtraTreesClassifier()"
      ]
     },
     "execution_count": 187,
     "metadata": {},
     "output_type": "execute_result"
    }
   ],
   "source": [
    "etc.fit(X_train,y_train)"
   ]
  },
  {
   "cell_type": "code",
   "execution_count": 188,
   "id": "f5c3c5a8-1965-4955-9a06-ebacdc55beec",
   "metadata": {},
   "outputs": [
    {
     "data": {
      "text/plain": [
       "0.9561281337047354"
      ]
     },
     "execution_count": 188,
     "metadata": {},
     "output_type": "execute_result"
    }
   ],
   "source": [
    "etc.score(X_train,y_train)"
   ]
  },
  {
   "cell_type": "code",
   "execution_count": 189,
   "id": "25b5cf0c-84ff-4188-b536-c695cfe2bf8e",
   "metadata": {},
   "outputs": [
    {
     "data": {
      "text/plain": [
       "0.5762004175365344"
      ]
     },
     "execution_count": 189,
     "metadata": {},
     "output_type": "execute_result"
    }
   ],
   "source": [
    "etc.score(X_test,y_test)"
   ]
  },
  {
   "cell_type": "markdown",
   "id": "24311fcc-b3de-40cf-89cc-56aacc1a90b7",
   "metadata": {},
   "source": [
    "### Logistical Regression "
   ]
  },
  {
   "cell_type": "code",
   "execution_count": 190,
   "id": "61905fc7-e94a-4293-8348-740643c9faa0",
   "metadata": {},
   "outputs": [],
   "source": [
    "logreg = LogisticRegression()"
   ]
  },
  {
   "cell_type": "code",
   "execution_count": 191,
   "id": "07acc57f-adcd-4615-8577-1c86dea24359",
   "metadata": {},
   "outputs": [
    {
     "data": {
      "text/plain": [
       "LogisticRegression()"
      ]
     },
     "execution_count": 191,
     "metadata": {},
     "output_type": "execute_result"
    }
   ],
   "source": [
    "logreg.fit(X_train, y_train)"
   ]
  },
  {
   "cell_type": "code",
   "execution_count": 192,
   "id": "0845118e-5716-483b-8df6-5d52856d8720",
   "metadata": {},
   "outputs": [
    {
     "data": {
      "text/plain": [
       "0.915041782729805"
      ]
     },
     "execution_count": 192,
     "metadata": {},
     "output_type": "execute_result"
    }
   ],
   "source": [
    "logreg.score(X_train,y_train)"
   ]
  },
  {
   "cell_type": "code",
   "execution_count": 193,
   "id": "e99a1492-152d-4376-8a9e-db73720f0b21",
   "metadata": {},
   "outputs": [
    {
     "data": {
      "text/plain": [
       "0.569937369519833"
      ]
     },
     "execution_count": 193,
     "metadata": {},
     "output_type": "execute_result"
    }
   ],
   "source": [
    "logreg.score(X_test,y_test)"
   ]
  },
  {
   "cell_type": "code",
   "execution_count": 379,
   "id": "bb2b6477-7fca-4215-b5df-bb358e06d100",
   "metadata": {},
   "outputs": [],
   "source": [
    "# Ada Boost"
   ]
  },
  {
   "cell_type": "code",
   "execution_count": 381,
   "id": "d166c235-dc34-4d52-b916-0674d0996a07",
   "metadata": {},
   "outputs": [],
   "source": [
    "ada = AdaBoostClassifier()"
   ]
  },
  {
   "cell_type": "code",
   "execution_count": 382,
   "id": "14993d36-5e8a-4d5d-a1db-1d36395510de",
   "metadata": {},
   "outputs": [
    {
     "data": {
      "text/plain": [
       "AdaBoostClassifier()"
      ]
     },
     "execution_count": 382,
     "metadata": {},
     "output_type": "execute_result"
    }
   ],
   "source": [
    "ada.fit(X_train,y_train)"
   ]
  },
  {
   "cell_type": "code",
   "execution_count": 384,
   "id": "8ce1018a-1925-4640-a25e-a9a6e78e705f",
   "metadata": {},
   "outputs": [
    {
     "data": {
      "text/plain": [
       "0.6427576601671309"
      ]
     },
     "execution_count": 384,
     "metadata": {},
     "output_type": "execute_result"
    }
   ],
   "source": [
    "ada.score(X_train,y_train)"
   ]
  },
  {
   "cell_type": "code",
   "execution_count": 385,
   "id": "63b561e4-89f1-40e2-9af9-387f7acac0a0",
   "metadata": {},
   "outputs": [
    {
     "data": {
      "text/plain": [
       "0.5427974947807933"
      ]
     },
     "execution_count": 385,
     "metadata": {},
     "output_type": "execute_result"
    }
   ],
   "source": [
    "ada.score(X_test,y_test)"
   ]
  },
  {
   "cell_type": "markdown",
   "id": "914a144d-d38b-4bb8-8b01-b737b4f77372",
   "metadata": {},
   "source": [
    "### Grid Search CV"
   ]
  },
  {
   "cell_type": "code",
   "execution_count": 213,
   "id": "c540fa6d-3de0-4027-82ce-e1429ef55324",
   "metadata": {},
   "outputs": [],
   "source": [
    "grid = {\n",
    "    'n_estimators': [500, 550],\n",
    "    'max_depth': [None],\n",
    "    'min_samples_split': [7, 8],\n",
    "    'min_samples_leaf': [3]\n",
    "}\n",
    "\n",
    "gs = GridSearchCV(rfc, param_grid=grid)"
   ]
  },
  {
   "cell_type": "code",
   "execution_count": 214,
   "id": "31df3778-bb57-4f33-bc9e-4fe6d640387a",
   "metadata": {},
   "outputs": [
    {
     "data": {
      "text/plain": [
       "GridSearchCV(estimator=RandomForestClassifier(),\n",
       "             param_grid={'max_depth': [None], 'min_samples_leaf': [3],\n",
       "                         'min_samples_split': [7, 8],\n",
       "                         'n_estimators': [500, 550]})"
      ]
     },
     "execution_count": 214,
     "metadata": {},
     "output_type": "execute_result"
    }
   ],
   "source": [
    "gs.fit(X_train,y_train)"
   ]
  },
  {
   "cell_type": "code",
   "execution_count": 215,
   "id": "91371687-fa10-45df-8849-6cd5c129c8b8",
   "metadata": {},
   "outputs": [
    {
     "data": {
      "text/plain": [
       "0.5905270034843205"
      ]
     },
     "execution_count": 215,
     "metadata": {},
     "output_type": "execute_result"
    }
   ],
   "source": [
    "gs.best_score_"
   ]
  },
  {
   "cell_type": "code",
   "execution_count": 216,
   "id": "3f6e28be-d1a2-4b15-978d-0b246b69c564",
   "metadata": {},
   "outputs": [
    {
     "data": {
      "text/plain": [
       "{'max_depth': None,\n",
       " 'min_samples_leaf': 3,\n",
       " 'min_samples_split': 8,\n",
       " 'n_estimators': 500}"
      ]
     },
     "execution_count": 216,
     "metadata": {},
     "output_type": "execute_result"
    }
   ],
   "source": [
    "gs.best_params_"
   ]
  },
  {
   "cell_type": "code",
   "execution_count": 378,
   "id": "2b31a08c-6a0d-4859-ad34-b530ea4577a8",
   "metadata": {},
   "outputs": [
    {
     "data": {
      "image/png": "[encoded data removed]",
      "text/plain": [
       "<Figure size 1080x720 with 1 Axes>"
      ]
     },
     "metadata": {
      "needs_background": "light"
     },
     "output_type": "display_data"
    }
   ],
   "source": [
    "fig = plt.figure(figsize=(15, 10))\n",
    "plot_tree(rfc.estimators_[0],feature_names=X.columns,filled=True);"
   ]
  },
  {
   "cell_type": "markdown",
   "id": "7f7f2054-7658-4887-9fea-42cd42136612",
   "metadata": {},
   "source": [
    "# Pipeline with TF-iv"
   ]
  },
  {
   "cell_type": "code",
   "execution_count": 227,
   "id": "19596653-5558-4ad3-9594-e5369ef8a5f2",
   "metadata": {},
   "outputs": [
    {
     "data": {
      "text/html": [
       "<div>\n",
       "<style scoped>\n",
       "    .dataframe tbody tr th:only-of-type {\n",
       "        vertical-align: middle;\n",
       "    }\n",
       "\n",
       "    .dataframe tbody tr th {\n",
       "        vertical-align: top;\n",
       "    }\n",
       "\n",
       "    .dataframe thead th {\n",
       "        text-align: right;\n",
       "    }\n",
       "</style>\n",
       "<table border=\"1\" class=\"dataframe\">\n",
       "  <thead>\n",
       "    <tr style=\"text-align: right;\">\n",
       "      <th></th>\n",
       "      <th>subreddit</th>\n",
       "      <th>title</th>\n",
       "    </tr>\n",
       "  </thead>\n",
       "  <tbody>\n",
       "    <tr>\n",
       "      <th>0</th>\n",
       "      <td>AnimalsBeingBros</td>\n",
       "      <td>Yorkie brings stray kitten home .</td>\n",
       "    </tr>\n",
       "    <tr>\n",
       "      <th>1</th>\n",
       "      <td>AnimalsBeingBros</td>\n",
       "      <td>How's the puppy? The puppy is cute to me!</td>\n",
       "    </tr>\n",
       "    <tr>\n",
       "      <th>2</th>\n",
       "      <td>AnimalsBeingBros</td>\n",
       "      <td>Bowls and Feeders for Dogs and Cats</td>\n",
       "    </tr>\n",
       "    <tr>\n",
       "      <th>3</th>\n",
       "      <td>AnimalsBeingBros</td>\n",
       "      <td>small baby puppies</td>\n",
       "    </tr>\n",
       "    <tr>\n",
       "      <th>4</th>\n",
       "      <td>AnimalsBeingBros</td>\n",
       "      <td>Please vote for my post</td>\n",
       "    </tr>\n",
       "  </tbody>\n",
       "</table>\n",
       "</div>"
      ],
      "text/plain": [
       "          subreddit                                      title\n",
       "0  AnimalsBeingBros          Yorkie brings stray kitten home .\n",
       "1  AnimalsBeingBros  How's the puppy? The puppy is cute to me!\n",
       "2  AnimalsBeingBros        Bowls and Feeders for Dogs and Cats\n",
       "3  AnimalsBeingBros                         small baby puppies\n",
       "4  AnimalsBeingBros                    Please vote for my post"
      ]
     },
     "execution_count": 227,
     "metadata": {},
     "output_type": "execute_result"
    }
   ],
   "source": [
    "words.head()"
   ]
  },
  {
   "cell_type": "code",
   "execution_count": 235,
   "id": "2057c9ac-040d-411c-a7b9-6183fcf25219",
   "metadata": {},
   "outputs": [],
   "source": [
    "X = words['title']"
   ]
  },
  {
   "cell_type": "code",
   "execution_count": 236,
   "id": "5ddf0f7e-30c0-4d19-a444-5e04a498d96b",
   "metadata": {},
   "outputs": [],
   "source": [
    "y = words['subreddit']"
   ]
  },
  {
   "cell_type": "code",
   "execution_count": 237,
   "id": "49c541ca-c5d2-437b-976e-78e2239fea73",
   "metadata": {},
   "outputs": [],
   "source": [
    "X_train,X_test,y_train,y_test = train_test_split(X,y,random_state = 42, stratify=y)"
   ]
  },
  {
   "cell_type": "code",
   "execution_count": 338,
   "id": "3abad293-5116-4ad4-92e4-b55fb61af149",
   "metadata": {},
   "outputs": [],
   "source": [
    "pipe = Pipeline([\n",
    "    ('tf-idf', TfidfVectorizer()),\n",
    "    ('rfc',RandomForestClassifier( min_samples_leaf= 6,min_samples_split=9,n_estimators = 500,))\n",
    "])"
   ]
  },
  {
   "cell_type": "code",
   "execution_count": null,
   "id": "ef1acc3c-4354-4ebf-b07b-9abfde463ddf",
   "metadata": {},
   "outputs": [],
   "source": []
  },
  {
   "cell_type": "code",
   "execution_count": 339,
   "id": "cbcefa34-3885-4ac2-881e-781a124dd561",
   "metadata": {},
   "outputs": [
    {
     "data": {
      "text/plain": [
       "Pipeline(steps=[('tf-idf', TfidfVectorizer()),\n",
       "                ('rfc',\n",
       "                 RandomForestClassifier(min_samples_leaf=6, min_samples_split=9,\n",
       "                                        n_estimators=500))])"
      ]
     },
     "execution_count": 339,
     "metadata": {},
     "output_type": "execute_result"
    }
   ],
   "source": [
    "pipe.fit(X_train,y_train)"
   ]
  },
  {
   "cell_type": "code",
   "execution_count": 340,
   "id": "80257b25-c761-4cff-9f77-4623662c42dc",
   "metadata": {},
   "outputs": [
    {
     "data": {
      "text/plain": [
       "0.7151810584958217"
      ]
     },
     "execution_count": 340,
     "metadata": {},
     "output_type": "execute_result"
    }
   ],
   "source": [
    "pipe.score(X_train,y_train)"
   ]
  },
  {
   "cell_type": "code",
   "execution_count": 341,
   "id": "94f78236-7ee4-49b1-a12b-314d0faac4bf",
   "metadata": {},
   "outputs": [
    {
     "data": {
      "text/plain": [
       "0.615866388308977"
      ]
     },
     "execution_count": 341,
     "metadata": {},
     "output_type": "execute_result"
    }
   ],
   "source": [
    "pipe.score(X_test,y_test)"
   ]
  },
  {
   "cell_type": "code",
   "execution_count": null,
   "id": "4091ce7e-1611-44e4-b534-9438e5e9a9be",
   "metadata": {},
   "outputs": [],
   "source": []
  },
  {
   "cell_type": "markdown",
   "id": "3078cd4b-2e30-485d-97bf-57ee27c1b044",
   "metadata": {},
   "source": [
    "## Pickle"
   ]
  },
  {
   "cell_type": "code",
   "execution_count": 345,
   "id": "0a4442e0-7ccf-4d7d-9c88-b14df7eb8a1f",
   "metadata": {},
   "outputs": [],
   "source": [
    "with open('./Models/pet_pipe.pkl', mode = 'wb') as pickle_out:\n",
    "    pickle.dump(pipe, pickle_out)"
   ]
  },
  {
   "cell_type": "code",
   "execution_count": null,
   "id": "a32c7c6a-db8e-4a3e-ab79-a8f86102f577",
   "metadata": {},
   "outputs": [],
   "source": []
  }
 ],
 "metadata": {
  "kernelspec": {
   "display_name": "Python 3",
   "language": "python",
   "name": "python3"
  },
  "language_info": {
   "codemirror_mode": {
    "name": "ipython",
    "version": 3
   },
   "file_extension": ".py",
   "mimetype": "text/x-python",
   "name": "python",
   "nbconvert_exporter": "python",
   "pygments_lexer": "ipython3",
   "version": "3.8.8"
  }
 },
 "nbformat": 4,
 "nbformat_minor": 5
}
